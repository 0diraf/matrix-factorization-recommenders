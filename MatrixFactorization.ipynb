{
  "cells": [
    {
      "cell_type": "markdown",
      "source": [
        "# Matrix Factorization for Recommender Systems\n",
        "\n",
        "In this project, I explore matrix factorization techniques for recommender systems. Here, matrix factorization is implemented with the help of scipy's svds() as well as the gradient descent algorithm. The dataset used is the goodreads dataset which can be found [here](https://github.com/zygmuntz/goodbooks-10k).\n",
        "\n",
        "## ✅ Objectives\n",
        "\n",
        "*   Implement Matrix Factorization\n",
        "  *  using scipy's svds()\n",
        "  *  using gradient descent\n",
        "*   Implement functions that recommend movies to users using the predicted ratings as estimated by matrix factorization\n",
        "*   Explore cold-start problem\n",
        "*   Implement a solution to the cold start problem that does not involve retraining the model.\n"
      ],
      "metadata": {
        "id": "MpgL7w8DT3zJ"
      },
      "id": "MpgL7w8DT3zJ"
    },
    {
      "cell_type": "code",
      "execution_count": null,
      "id": "7a9882ab-4204-417d-9dd9-ee749d0994af",
      "metadata": {
        "id": "7a9882ab-4204-417d-9dd9-ee749d0994af"
      },
      "outputs": [],
      "source": [
        "import pandas as pd\n",
        "import numpy as np\n",
        "import matplotlib.pyplot as plt\n",
        "import math\n",
        "from scipy.sparse.linalg import svds\n",
        "from prettytable import PrettyTable\n",
        "%matplotlib inline"
      ]
    },
    {
      "cell_type": "code",
      "execution_count": null,
      "id": "a3dc13aa-8ed5-4d15-ab1b-99eb78d8fee8",
      "metadata": {
        "id": "a3dc13aa-8ed5-4d15-ab1b-99eb78d8fee8"
      },
      "outputs": [],
      "source": [
        "books = pd.read_csv(\"books.csv\")\n",
        "ratings = pd.read_csv(\"ratings.csv\")"
      ]
    },
    {
      "cell_type": "code",
      "execution_count": null,
      "id": "bd717d15-69bb-492e-baa0-866bc6245270",
      "metadata": {
        "id": "bd717d15-69bb-492e-baa0-866bc6245270",
        "colab": {
          "base_uri": "https://localhost:8080/",
          "height": 206
        },
        "outputId": "d74737da-3192-4d45-cb1c-216afceeb1a9"
      },
      "outputs": [
        {
          "output_type": "execute_result",
          "data": {
            "text/plain": [
              "   user_id  book_id  rating\n",
              "0        1      258       5\n",
              "1        2     4081       4\n",
              "2        2      260       5\n",
              "3        2     9296       5\n",
              "4        2     2318       3"
            ],
            "text/html": [
              "\n",
              "\n",
              "  <div id=\"df-93332b58-1dfc-4e21-815d-e187e89f813c\">\n",
              "    <div class=\"colab-df-container\">\n",
              "      <div>\n",
              "<style scoped>\n",
              "    .dataframe tbody tr th:only-of-type {\n",
              "        vertical-align: middle;\n",
              "    }\n",
              "\n",
              "    .dataframe tbody tr th {\n",
              "        vertical-align: top;\n",
              "    }\n",
              "\n",
              "    .dataframe thead th {\n",
              "        text-align: right;\n",
              "    }\n",
              "</style>\n",
              "<table border=\"1\" class=\"dataframe\">\n",
              "  <thead>\n",
              "    <tr style=\"text-align: right;\">\n",
              "      <th></th>\n",
              "      <th>user_id</th>\n",
              "      <th>book_id</th>\n",
              "      <th>rating</th>\n",
              "    </tr>\n",
              "  </thead>\n",
              "  <tbody>\n",
              "    <tr>\n",
              "      <th>0</th>\n",
              "      <td>1</td>\n",
              "      <td>258</td>\n",
              "      <td>5</td>\n",
              "    </tr>\n",
              "    <tr>\n",
              "      <th>1</th>\n",
              "      <td>2</td>\n",
              "      <td>4081</td>\n",
              "      <td>4</td>\n",
              "    </tr>\n",
              "    <tr>\n",
              "      <th>2</th>\n",
              "      <td>2</td>\n",
              "      <td>260</td>\n",
              "      <td>5</td>\n",
              "    </tr>\n",
              "    <tr>\n",
              "      <th>3</th>\n",
              "      <td>2</td>\n",
              "      <td>9296</td>\n",
              "      <td>5</td>\n",
              "    </tr>\n",
              "    <tr>\n",
              "      <th>4</th>\n",
              "      <td>2</td>\n",
              "      <td>2318</td>\n",
              "      <td>3</td>\n",
              "    </tr>\n",
              "  </tbody>\n",
              "</table>\n",
              "</div>\n",
              "      <button class=\"colab-df-convert\" onclick=\"convertToInteractive('df-93332b58-1dfc-4e21-815d-e187e89f813c')\"\n",
              "              title=\"Convert this dataframe to an interactive table.\"\n",
              "              style=\"display:none;\">\n",
              "\n",
              "  <svg xmlns=\"http://www.w3.org/2000/svg\" height=\"24px\"viewBox=\"0 0 24 24\"\n",
              "       width=\"24px\">\n",
              "    <path d=\"M0 0h24v24H0V0z\" fill=\"none\"/>\n",
              "    <path d=\"M18.56 5.44l.94 2.06.94-2.06 2.06-.94-2.06-.94-.94-2.06-.94 2.06-2.06.94zm-11 1L8.5 8.5l.94-2.06 2.06-.94-2.06-.94L8.5 2.5l-.94 2.06-2.06.94zm10 10l.94 2.06.94-2.06 2.06-.94-2.06-.94-.94-2.06-.94 2.06-2.06.94z\"/><path d=\"M17.41 7.96l-1.37-1.37c-.4-.4-.92-.59-1.43-.59-.52 0-1.04.2-1.43.59L10.3 9.45l-7.72 7.72c-.78.78-.78 2.05 0 2.83L4 21.41c.39.39.9.59 1.41.59.51 0 1.02-.2 1.41-.59l7.78-7.78 2.81-2.81c.8-.78.8-2.07 0-2.86zM5.41 20L4 18.59l7.72-7.72 1.47 1.35L5.41 20z\"/>\n",
              "  </svg>\n",
              "      </button>\n",
              "\n",
              "\n",
              "\n",
              "    <div id=\"df-05670824-96ff-4a24-b653-a144191551ff\">\n",
              "      <button class=\"colab-df-quickchart\" onclick=\"quickchart('df-05670824-96ff-4a24-b653-a144191551ff')\"\n",
              "              title=\"Suggest charts.\"\n",
              "              style=\"display:none;\">\n",
              "\n",
              "<svg xmlns=\"http://www.w3.org/2000/svg\" height=\"24px\"viewBox=\"0 0 24 24\"\n",
              "     width=\"24px\">\n",
              "    <g>\n",
              "        <path d=\"M19 3H5c-1.1 0-2 .9-2 2v14c0 1.1.9 2 2 2h14c1.1 0 2-.9 2-2V5c0-1.1-.9-2-2-2zM9 17H7v-7h2v7zm4 0h-2V7h2v10zm4 0h-2v-4h2v4z\"/>\n",
              "    </g>\n",
              "</svg>\n",
              "      </button>\n",
              "    </div>\n",
              "\n",
              "<style>\n",
              "  .colab-df-quickchart {\n",
              "    background-color: #E8F0FE;\n",
              "    border: none;\n",
              "    border-radius: 50%;\n",
              "    cursor: pointer;\n",
              "    display: none;\n",
              "    fill: #1967D2;\n",
              "    height: 32px;\n",
              "    padding: 0 0 0 0;\n",
              "    width: 32px;\n",
              "  }\n",
              "\n",
              "  .colab-df-quickchart:hover {\n",
              "    background-color: #E2EBFA;\n",
              "    box-shadow: 0px 1px 2px rgba(60, 64, 67, 0.3), 0px 1px 3px 1px rgba(60, 64, 67, 0.15);\n",
              "    fill: #174EA6;\n",
              "  }\n",
              "\n",
              "  [theme=dark] .colab-df-quickchart {\n",
              "    background-color: #3B4455;\n",
              "    fill: #D2E3FC;\n",
              "  }\n",
              "\n",
              "  [theme=dark] .colab-df-quickchart:hover {\n",
              "    background-color: #434B5C;\n",
              "    box-shadow: 0px 1px 3px 1px rgba(0, 0, 0, 0.15);\n",
              "    filter: drop-shadow(0px 1px 2px rgba(0, 0, 0, 0.3));\n",
              "    fill: #FFFFFF;\n",
              "  }\n",
              "</style>\n",
              "\n",
              "    <script>\n",
              "      async function quickchart(key) {\n",
              "        const containerElement = document.querySelector('#' + key);\n",
              "        const charts = await google.colab.kernel.invokeFunction(\n",
              "            'suggestCharts', [key], {});\n",
              "      }\n",
              "    </script>\n",
              "\n",
              "      <script>\n",
              "\n",
              "function displayQuickchartButton(domScope) {\n",
              "  let quickchartButtonEl =\n",
              "    domScope.querySelector('#df-05670824-96ff-4a24-b653-a144191551ff button.colab-df-quickchart');\n",
              "  quickchartButtonEl.style.display =\n",
              "    google.colab.kernel.accessAllowed ? 'block' : 'none';\n",
              "}\n",
              "\n",
              "        displayQuickchartButton(document);\n",
              "      </script>\n",
              "      <style>\n",
              "    .colab-df-container {\n",
              "      display:flex;\n",
              "      flex-wrap:wrap;\n",
              "      gap: 12px;\n",
              "    }\n",
              "\n",
              "    .colab-df-convert {\n",
              "      background-color: #E8F0FE;\n",
              "      border: none;\n",
              "      border-radius: 50%;\n",
              "      cursor: pointer;\n",
              "      display: none;\n",
              "      fill: #1967D2;\n",
              "      height: 32px;\n",
              "      padding: 0 0 0 0;\n",
              "      width: 32px;\n",
              "    }\n",
              "\n",
              "    .colab-df-convert:hover {\n",
              "      background-color: #E2EBFA;\n",
              "      box-shadow: 0px 1px 2px rgba(60, 64, 67, 0.3), 0px 1px 3px 1px rgba(60, 64, 67, 0.15);\n",
              "      fill: #174EA6;\n",
              "    }\n",
              "\n",
              "    [theme=dark] .colab-df-convert {\n",
              "      background-color: #3B4455;\n",
              "      fill: #D2E3FC;\n",
              "    }\n",
              "\n",
              "    [theme=dark] .colab-df-convert:hover {\n",
              "      background-color: #434B5C;\n",
              "      box-shadow: 0px 1px 3px 1px rgba(0, 0, 0, 0.15);\n",
              "      filter: drop-shadow(0px 1px 2px rgba(0, 0, 0, 0.3));\n",
              "      fill: #FFFFFF;\n",
              "    }\n",
              "  </style>\n",
              "\n",
              "      <script>\n",
              "        const buttonEl =\n",
              "          document.querySelector('#df-93332b58-1dfc-4e21-815d-e187e89f813c button.colab-df-convert');\n",
              "        buttonEl.style.display =\n",
              "          google.colab.kernel.accessAllowed ? 'block' : 'none';\n",
              "\n",
              "        async function convertToInteractive(key) {\n",
              "          const element = document.querySelector('#df-93332b58-1dfc-4e21-815d-e187e89f813c');\n",
              "          const dataTable =\n",
              "            await google.colab.kernel.invokeFunction('convertToInteractive',\n",
              "                                                     [key], {});\n",
              "          if (!dataTable) return;\n",
              "\n",
              "          const docLinkHtml = 'Like what you see? Visit the ' +\n",
              "            '<a target=\"_blank\" href=https://colab.research.google.com/notebooks/data_table.ipynb>data table notebook</a>'\n",
              "            + ' to learn more about interactive tables.';\n",
              "          element.innerHTML = '';\n",
              "          dataTable['output_type'] = 'display_data';\n",
              "          await google.colab.output.renderOutput(dataTable, element);\n",
              "          const docLink = document.createElement('div');\n",
              "          docLink.innerHTML = docLinkHtml;\n",
              "          element.appendChild(docLink);\n",
              "        }\n",
              "      </script>\n",
              "    </div>\n",
              "  </div>\n"
            ]
          },
          "metadata": {},
          "execution_count": 3
        }
      ],
      "source": [
        "ratings.head()"
      ]
    },
    {
      "cell_type": "code",
      "execution_count": null,
      "id": "a9cfe736-1235-4580-bb08-233a0681eaab",
      "metadata": {
        "id": "a9cfe736-1235-4580-bb08-233a0681eaab",
        "colab": {
          "base_uri": "https://localhost:8080/",
          "height": 421
        },
        "outputId": "c70f37b1-dce5-49f8-db67-f155f7ad3cc4"
      },
      "outputs": [
        {
          "output_type": "execute_result",
          "data": {
            "text/plain": [
              "   book_id  goodreads_book_id  best_book_id  work_id  books_count       isbn  \\\n",
              "0        1            2767052       2767052  2792775          272  439023483   \n",
              "1        2                  3             3  4640799          491  439554934   \n",
              "2        3              41865         41865  3212258          226  316015849   \n",
              "3        4               2657          2657  3275794          487   61120081   \n",
              "4        5               4671          4671   245494         1356  743273567   \n",
              "\n",
              "         isbn13                      authors  original_publication_year  \\\n",
              "0  9.780439e+12              Suzanne Collins                     2008.0   \n",
              "1  9.780440e+12  J.K. Rowling, Mary GrandPré                     1997.0   \n",
              "2  9.780316e+12              Stephenie Meyer                     2005.0   \n",
              "3  9.780061e+12                   Harper Lee                     1960.0   \n",
              "4  9.780743e+12          F. Scott Fitzgerald                     1925.0   \n",
              "\n",
              "                             original_title  ... ratings_count  \\\n",
              "0                          The Hunger Games  ...       4780653   \n",
              "1  Harry Potter and the Philosopher's Stone  ...       4602479   \n",
              "2                                  Twilight  ...       3866839   \n",
              "3                     To Kill a Mockingbird  ...       3198671   \n",
              "4                          The Great Gatsby  ...       2683664   \n",
              "\n",
              "  work_ratings_count  work_text_reviews_count  ratings_1  ratings_2  \\\n",
              "0            4942365                   155254      66715     127936   \n",
              "1            4800065                    75867      75504     101676   \n",
              "2            3916824                    95009     456191     436802   \n",
              "3            3340896                    72586      60427     117415   \n",
              "4            2773745                    51992      86236     197621   \n",
              "\n",
              "   ratings_3  ratings_4  ratings_5  \\\n",
              "0     560092    1481305    2706317   \n",
              "1     455024    1156318    3011543   \n",
              "2     793319     875073    1355439   \n",
              "3     446835    1001952    1714267   \n",
              "4     606158     936012     947718   \n",
              "\n",
              "                                           image_url  \\\n",
              "0  https://images.gr-assets.com/books/1447303603m...   \n",
              "1  https://images.gr-assets.com/books/1474154022m...   \n",
              "2  https://images.gr-assets.com/books/1361039443m...   \n",
              "3  https://images.gr-assets.com/books/1361975680m...   \n",
              "4  https://images.gr-assets.com/books/1490528560m...   \n",
              "\n",
              "                                     small_image_url  \n",
              "0  https://images.gr-assets.com/books/1447303603s...  \n",
              "1  https://images.gr-assets.com/books/1474154022s...  \n",
              "2  https://images.gr-assets.com/books/1361039443s...  \n",
              "3  https://images.gr-assets.com/books/1361975680s...  \n",
              "4  https://images.gr-assets.com/books/1490528560s...  \n",
              "\n",
              "[5 rows x 23 columns]"
            ],
            "text/html": [
              "\n",
              "\n",
              "  <div id=\"df-427bdc7c-7e76-4659-8a95-9440a24e26e8\">\n",
              "    <div class=\"colab-df-container\">\n",
              "      <div>\n",
              "<style scoped>\n",
              "    .dataframe tbody tr th:only-of-type {\n",
              "        vertical-align: middle;\n",
              "    }\n",
              "\n",
              "    .dataframe tbody tr th {\n",
              "        vertical-align: top;\n",
              "    }\n",
              "\n",
              "    .dataframe thead th {\n",
              "        text-align: right;\n",
              "    }\n",
              "</style>\n",
              "<table border=\"1\" class=\"dataframe\">\n",
              "  <thead>\n",
              "    <tr style=\"text-align: right;\">\n",
              "      <th></th>\n",
              "      <th>book_id</th>\n",
              "      <th>goodreads_book_id</th>\n",
              "      <th>best_book_id</th>\n",
              "      <th>work_id</th>\n",
              "      <th>books_count</th>\n",
              "      <th>isbn</th>\n",
              "      <th>isbn13</th>\n",
              "      <th>authors</th>\n",
              "      <th>original_publication_year</th>\n",
              "      <th>original_title</th>\n",
              "      <th>...</th>\n",
              "      <th>ratings_count</th>\n",
              "      <th>work_ratings_count</th>\n",
              "      <th>work_text_reviews_count</th>\n",
              "      <th>ratings_1</th>\n",
              "      <th>ratings_2</th>\n",
              "      <th>ratings_3</th>\n",
              "      <th>ratings_4</th>\n",
              "      <th>ratings_5</th>\n",
              "      <th>image_url</th>\n",
              "      <th>small_image_url</th>\n",
              "    </tr>\n",
              "  </thead>\n",
              "  <tbody>\n",
              "    <tr>\n",
              "      <th>0</th>\n",
              "      <td>1</td>\n",
              "      <td>2767052</td>\n",
              "      <td>2767052</td>\n",
              "      <td>2792775</td>\n",
              "      <td>272</td>\n",
              "      <td>439023483</td>\n",
              "      <td>9.780439e+12</td>\n",
              "      <td>Suzanne Collins</td>\n",
              "      <td>2008.0</td>\n",
              "      <td>The Hunger Games</td>\n",
              "      <td>...</td>\n",
              "      <td>4780653</td>\n",
              "      <td>4942365</td>\n",
              "      <td>155254</td>\n",
              "      <td>66715</td>\n",
              "      <td>127936</td>\n",
              "      <td>560092</td>\n",
              "      <td>1481305</td>\n",
              "      <td>2706317</td>\n",
              "      <td>https://images.gr-assets.com/books/1447303603m...</td>\n",
              "      <td>https://images.gr-assets.com/books/1447303603s...</td>\n",
              "    </tr>\n",
              "    <tr>\n",
              "      <th>1</th>\n",
              "      <td>2</td>\n",
              "      <td>3</td>\n",
              "      <td>3</td>\n",
              "      <td>4640799</td>\n",
              "      <td>491</td>\n",
              "      <td>439554934</td>\n",
              "      <td>9.780440e+12</td>\n",
              "      <td>J.K. Rowling, Mary GrandPré</td>\n",
              "      <td>1997.0</td>\n",
              "      <td>Harry Potter and the Philosopher's Stone</td>\n",
              "      <td>...</td>\n",
              "      <td>4602479</td>\n",
              "      <td>4800065</td>\n",
              "      <td>75867</td>\n",
              "      <td>75504</td>\n",
              "      <td>101676</td>\n",
              "      <td>455024</td>\n",
              "      <td>1156318</td>\n",
              "      <td>3011543</td>\n",
              "      <td>https://images.gr-assets.com/books/1474154022m...</td>\n",
              "      <td>https://images.gr-assets.com/books/1474154022s...</td>\n",
              "    </tr>\n",
              "    <tr>\n",
              "      <th>2</th>\n",
              "      <td>3</td>\n",
              "      <td>41865</td>\n",
              "      <td>41865</td>\n",
              "      <td>3212258</td>\n",
              "      <td>226</td>\n",
              "      <td>316015849</td>\n",
              "      <td>9.780316e+12</td>\n",
              "      <td>Stephenie Meyer</td>\n",
              "      <td>2005.0</td>\n",
              "      <td>Twilight</td>\n",
              "      <td>...</td>\n",
              "      <td>3866839</td>\n",
              "      <td>3916824</td>\n",
              "      <td>95009</td>\n",
              "      <td>456191</td>\n",
              "      <td>436802</td>\n",
              "      <td>793319</td>\n",
              "      <td>875073</td>\n",
              "      <td>1355439</td>\n",
              "      <td>https://images.gr-assets.com/books/1361039443m...</td>\n",
              "      <td>https://images.gr-assets.com/books/1361039443s...</td>\n",
              "    </tr>\n",
              "    <tr>\n",
              "      <th>3</th>\n",
              "      <td>4</td>\n",
              "      <td>2657</td>\n",
              "      <td>2657</td>\n",
              "      <td>3275794</td>\n",
              "      <td>487</td>\n",
              "      <td>61120081</td>\n",
              "      <td>9.780061e+12</td>\n",
              "      <td>Harper Lee</td>\n",
              "      <td>1960.0</td>\n",
              "      <td>To Kill a Mockingbird</td>\n",
              "      <td>...</td>\n",
              "      <td>3198671</td>\n",
              "      <td>3340896</td>\n",
              "      <td>72586</td>\n",
              "      <td>60427</td>\n",
              "      <td>117415</td>\n",
              "      <td>446835</td>\n",
              "      <td>1001952</td>\n",
              "      <td>1714267</td>\n",
              "      <td>https://images.gr-assets.com/books/1361975680m...</td>\n",
              "      <td>https://images.gr-assets.com/books/1361975680s...</td>\n",
              "    </tr>\n",
              "    <tr>\n",
              "      <th>4</th>\n",
              "      <td>5</td>\n",
              "      <td>4671</td>\n",
              "      <td>4671</td>\n",
              "      <td>245494</td>\n",
              "      <td>1356</td>\n",
              "      <td>743273567</td>\n",
              "      <td>9.780743e+12</td>\n",
              "      <td>F. Scott Fitzgerald</td>\n",
              "      <td>1925.0</td>\n",
              "      <td>The Great Gatsby</td>\n",
              "      <td>...</td>\n",
              "      <td>2683664</td>\n",
              "      <td>2773745</td>\n",
              "      <td>51992</td>\n",
              "      <td>86236</td>\n",
              "      <td>197621</td>\n",
              "      <td>606158</td>\n",
              "      <td>936012</td>\n",
              "      <td>947718</td>\n",
              "      <td>https://images.gr-assets.com/books/1490528560m...</td>\n",
              "      <td>https://images.gr-assets.com/books/1490528560s...</td>\n",
              "    </tr>\n",
              "  </tbody>\n",
              "</table>\n",
              "<p>5 rows × 23 columns</p>\n",
              "</div>\n",
              "      <button class=\"colab-df-convert\" onclick=\"convertToInteractive('df-427bdc7c-7e76-4659-8a95-9440a24e26e8')\"\n",
              "              title=\"Convert this dataframe to an interactive table.\"\n",
              "              style=\"display:none;\">\n",
              "\n",
              "  <svg xmlns=\"http://www.w3.org/2000/svg\" height=\"24px\"viewBox=\"0 0 24 24\"\n",
              "       width=\"24px\">\n",
              "    <path d=\"M0 0h24v24H0V0z\" fill=\"none\"/>\n",
              "    <path d=\"M18.56 5.44l.94 2.06.94-2.06 2.06-.94-2.06-.94-.94-2.06-.94 2.06-2.06.94zm-11 1L8.5 8.5l.94-2.06 2.06-.94-2.06-.94L8.5 2.5l-.94 2.06-2.06.94zm10 10l.94 2.06.94-2.06 2.06-.94-2.06-.94-.94-2.06-.94 2.06-2.06.94z\"/><path d=\"M17.41 7.96l-1.37-1.37c-.4-.4-.92-.59-1.43-.59-.52 0-1.04.2-1.43.59L10.3 9.45l-7.72 7.72c-.78.78-.78 2.05 0 2.83L4 21.41c.39.39.9.59 1.41.59.51 0 1.02-.2 1.41-.59l7.78-7.78 2.81-2.81c.8-.78.8-2.07 0-2.86zM5.41 20L4 18.59l7.72-7.72 1.47 1.35L5.41 20z\"/>\n",
              "  </svg>\n",
              "      </button>\n",
              "\n",
              "\n",
              "\n",
              "    <div id=\"df-620a8cc6-8467-4e85-89c7-889febcbdba5\">\n",
              "      <button class=\"colab-df-quickchart\" onclick=\"quickchart('df-620a8cc6-8467-4e85-89c7-889febcbdba5')\"\n",
              "              title=\"Suggest charts.\"\n",
              "              style=\"display:none;\">\n",
              "\n",
              "<svg xmlns=\"http://www.w3.org/2000/svg\" height=\"24px\"viewBox=\"0 0 24 24\"\n",
              "     width=\"24px\">\n",
              "    <g>\n",
              "        <path d=\"M19 3H5c-1.1 0-2 .9-2 2v14c0 1.1.9 2 2 2h14c1.1 0 2-.9 2-2V5c0-1.1-.9-2-2-2zM9 17H7v-7h2v7zm4 0h-2V7h2v10zm4 0h-2v-4h2v4z\"/>\n",
              "    </g>\n",
              "</svg>\n",
              "      </button>\n",
              "    </div>\n",
              "\n",
              "<style>\n",
              "  .colab-df-quickchart {\n",
              "    background-color: #E8F0FE;\n",
              "    border: none;\n",
              "    border-radius: 50%;\n",
              "    cursor: pointer;\n",
              "    display: none;\n",
              "    fill: #1967D2;\n",
              "    height: 32px;\n",
              "    padding: 0 0 0 0;\n",
              "    width: 32px;\n",
              "  }\n",
              "\n",
              "  .colab-df-quickchart:hover {\n",
              "    background-color: #E2EBFA;\n",
              "    box-shadow: 0px 1px 2px rgba(60, 64, 67, 0.3), 0px 1px 3px 1px rgba(60, 64, 67, 0.15);\n",
              "    fill: #174EA6;\n",
              "  }\n",
              "\n",
              "  [theme=dark] .colab-df-quickchart {\n",
              "    background-color: #3B4455;\n",
              "    fill: #D2E3FC;\n",
              "  }\n",
              "\n",
              "  [theme=dark] .colab-df-quickchart:hover {\n",
              "    background-color: #434B5C;\n",
              "    box-shadow: 0px 1px 3px 1px rgba(0, 0, 0, 0.15);\n",
              "    filter: drop-shadow(0px 1px 2px rgba(0, 0, 0, 0.3));\n",
              "    fill: #FFFFFF;\n",
              "  }\n",
              "</style>\n",
              "\n",
              "    <script>\n",
              "      async function quickchart(key) {\n",
              "        const containerElement = document.querySelector('#' + key);\n",
              "        const charts = await google.colab.kernel.invokeFunction(\n",
              "            'suggestCharts', [key], {});\n",
              "      }\n",
              "    </script>\n",
              "\n",
              "      <script>\n",
              "\n",
              "function displayQuickchartButton(domScope) {\n",
              "  let quickchartButtonEl =\n",
              "    domScope.querySelector('#df-620a8cc6-8467-4e85-89c7-889febcbdba5 button.colab-df-quickchart');\n",
              "  quickchartButtonEl.style.display =\n",
              "    google.colab.kernel.accessAllowed ? 'block' : 'none';\n",
              "}\n",
              "\n",
              "        displayQuickchartButton(document);\n",
              "      </script>\n",
              "      <style>\n",
              "    .colab-df-container {\n",
              "      display:flex;\n",
              "      flex-wrap:wrap;\n",
              "      gap: 12px;\n",
              "    }\n",
              "\n",
              "    .colab-df-convert {\n",
              "      background-color: #E8F0FE;\n",
              "      border: none;\n",
              "      border-radius: 50%;\n",
              "      cursor: pointer;\n",
              "      display: none;\n",
              "      fill: #1967D2;\n",
              "      height: 32px;\n",
              "      padding: 0 0 0 0;\n",
              "      width: 32px;\n",
              "    }\n",
              "\n",
              "    .colab-df-convert:hover {\n",
              "      background-color: #E2EBFA;\n",
              "      box-shadow: 0px 1px 2px rgba(60, 64, 67, 0.3), 0px 1px 3px 1px rgba(60, 64, 67, 0.15);\n",
              "      fill: #174EA6;\n",
              "    }\n",
              "\n",
              "    [theme=dark] .colab-df-convert {\n",
              "      background-color: #3B4455;\n",
              "      fill: #D2E3FC;\n",
              "    }\n",
              "\n",
              "    [theme=dark] .colab-df-convert:hover {\n",
              "      background-color: #434B5C;\n",
              "      box-shadow: 0px 1px 3px 1px rgba(0, 0, 0, 0.15);\n",
              "      filter: drop-shadow(0px 1px 2px rgba(0, 0, 0, 0.3));\n",
              "      fill: #FFFFFF;\n",
              "    }\n",
              "  </style>\n",
              "\n",
              "      <script>\n",
              "        const buttonEl =\n",
              "          document.querySelector('#df-427bdc7c-7e76-4659-8a95-9440a24e26e8 button.colab-df-convert');\n",
              "        buttonEl.style.display =\n",
              "          google.colab.kernel.accessAllowed ? 'block' : 'none';\n",
              "\n",
              "        async function convertToInteractive(key) {\n",
              "          const element = document.querySelector('#df-427bdc7c-7e76-4659-8a95-9440a24e26e8');\n",
              "          const dataTable =\n",
              "            await google.colab.kernel.invokeFunction('convertToInteractive',\n",
              "                                                     [key], {});\n",
              "          if (!dataTable) return;\n",
              "\n",
              "          const docLinkHtml = 'Like what you see? Visit the ' +\n",
              "            '<a target=\"_blank\" href=https://colab.research.google.com/notebooks/data_table.ipynb>data table notebook</a>'\n",
              "            + ' to learn more about interactive tables.';\n",
              "          element.innerHTML = '';\n",
              "          dataTable['output_type'] = 'display_data';\n",
              "          await google.colab.output.renderOutput(dataTable, element);\n",
              "          const docLink = document.createElement('div');\n",
              "          docLink.innerHTML = docLinkHtml;\n",
              "          element.appendChild(docLink);\n",
              "        }\n",
              "      </script>\n",
              "    </div>\n",
              "  </div>\n"
            ]
          },
          "metadata": {},
          "execution_count": 4
        }
      ],
      "source": [
        "books.head()"
      ]
    },
    {
      "cell_type": "code",
      "execution_count": null,
      "id": "a4ec9b7b-20ac-448c-9185-545b9cd146b7",
      "metadata": {
        "id": "a4ec9b7b-20ac-448c-9185-545b9cd146b7",
        "colab": {
          "base_uri": "https://localhost:8080/"
        },
        "outputId": "209b3bce-34e5-42fb-d0cc-388901a7c0ce"
      },
      "outputs": [
        {
          "output_type": "execute_result",
          "data": {
            "text/plain": [
              "book_id                         0\n",
              "goodreads_book_id               0\n",
              "best_book_id                    0\n",
              "work_id                         0\n",
              "books_count                     0\n",
              "isbn                          700\n",
              "isbn13                        585\n",
              "authors                         0\n",
              "original_publication_year      21\n",
              "original_title                585\n",
              "title                           0\n",
              "language_code                1084\n",
              "average_rating                  0\n",
              "ratings_count                   0\n",
              "work_ratings_count              0\n",
              "work_text_reviews_count         0\n",
              "ratings_1                       0\n",
              "ratings_2                       0\n",
              "ratings_3                       0\n",
              "ratings_4                       0\n",
              "ratings_5                       0\n",
              "image_url                       0\n",
              "small_image_url                 0\n",
              "dtype: int64"
            ]
          },
          "metadata": {},
          "execution_count": 5
        }
      ],
      "source": [
        "books.isna().sum()"
      ]
    },
    {
      "cell_type": "code",
      "execution_count": null,
      "id": "af9623ae-0237-4247-b96e-cf2e65b26d7e",
      "metadata": {
        "id": "af9623ae-0237-4247-b96e-cf2e65b26d7e"
      },
      "outputs": [],
      "source": [
        "image_url = books[\"image_url\"]"
      ]
    },
    {
      "cell_type": "code",
      "execution_count": null,
      "id": "d615ec91-e436-4405-9a37-e4a1c3770be7",
      "metadata": {
        "id": "d615ec91-e436-4405-9a37-e4a1c3770be7"
      },
      "outputs": [],
      "source": [
        "books.drop([\"isbn\", \"isbn13\", \"image_url\", \"small_image_url\", \"original_title\", \"language_code\", \"original_publication_year\"], axis=1, inplace=True)"
      ]
    },
    {
      "cell_type": "code",
      "execution_count": null,
      "id": "9d3d7d26-b154-44b9-81e1-d809eeeece21",
      "metadata": {
        "id": "9d3d7d26-b154-44b9-81e1-d809eeeece21",
        "colab": {
          "base_uri": "https://localhost:8080/"
        },
        "outputId": "9d4d7dac-2e23-4669-f43a-84a4ef7d500d"
      },
      "outputs": [
        {
          "output_type": "execute_result",
          "data": {
            "text/plain": [
              "book_id                    0\n",
              "goodreads_book_id          0\n",
              "best_book_id               0\n",
              "work_id                    0\n",
              "books_count                0\n",
              "authors                    0\n",
              "title                      0\n",
              "average_rating             0\n",
              "ratings_count              0\n",
              "work_ratings_count         0\n",
              "work_text_reviews_count    0\n",
              "ratings_1                  0\n",
              "ratings_2                  0\n",
              "ratings_3                  0\n",
              "ratings_4                  0\n",
              "ratings_5                  0\n",
              "dtype: int64"
            ]
          },
          "metadata": {},
          "execution_count": 8
        }
      ],
      "source": [
        "books.isna().sum()"
      ]
    },
    {
      "cell_type": "code",
      "execution_count": null,
      "id": "166a766c-0758-484a-b4a9-e11ebce7e3a7",
      "metadata": {
        "id": "166a766c-0758-484a-b4a9-e11ebce7e3a7",
        "colab": {
          "base_uri": "https://localhost:8080/",
          "height": 206
        },
        "outputId": "761df19b-c4dd-4bab-8f14-cf0b7b703f1e"
      },
      "outputs": [
        {
          "output_type": "execute_result",
          "data": {
            "text/plain": [
              "   user_id  book_id  rating\n",
              "0        1      258       5\n",
              "1        2     4081       4\n",
              "2        2      260       5\n",
              "3        2     9296       5\n",
              "4        2     2318       3"
            ],
            "text/html": [
              "\n",
              "\n",
              "  <div id=\"df-e8344d5b-5dd2-4f59-8910-276e4a943b11\">\n",
              "    <div class=\"colab-df-container\">\n",
              "      <div>\n",
              "<style scoped>\n",
              "    .dataframe tbody tr th:only-of-type {\n",
              "        vertical-align: middle;\n",
              "    }\n",
              "\n",
              "    .dataframe tbody tr th {\n",
              "        vertical-align: top;\n",
              "    }\n",
              "\n",
              "    .dataframe thead th {\n",
              "        text-align: right;\n",
              "    }\n",
              "</style>\n",
              "<table border=\"1\" class=\"dataframe\">\n",
              "  <thead>\n",
              "    <tr style=\"text-align: right;\">\n",
              "      <th></th>\n",
              "      <th>user_id</th>\n",
              "      <th>book_id</th>\n",
              "      <th>rating</th>\n",
              "    </tr>\n",
              "  </thead>\n",
              "  <tbody>\n",
              "    <tr>\n",
              "      <th>0</th>\n",
              "      <td>1</td>\n",
              "      <td>258</td>\n",
              "      <td>5</td>\n",
              "    </tr>\n",
              "    <tr>\n",
              "      <th>1</th>\n",
              "      <td>2</td>\n",
              "      <td>4081</td>\n",
              "      <td>4</td>\n",
              "    </tr>\n",
              "    <tr>\n",
              "      <th>2</th>\n",
              "      <td>2</td>\n",
              "      <td>260</td>\n",
              "      <td>5</td>\n",
              "    </tr>\n",
              "    <tr>\n",
              "      <th>3</th>\n",
              "      <td>2</td>\n",
              "      <td>9296</td>\n",
              "      <td>5</td>\n",
              "    </tr>\n",
              "    <tr>\n",
              "      <th>4</th>\n",
              "      <td>2</td>\n",
              "      <td>2318</td>\n",
              "      <td>3</td>\n",
              "    </tr>\n",
              "  </tbody>\n",
              "</table>\n",
              "</div>\n",
              "      <button class=\"colab-df-convert\" onclick=\"convertToInteractive('df-e8344d5b-5dd2-4f59-8910-276e4a943b11')\"\n",
              "              title=\"Convert this dataframe to an interactive table.\"\n",
              "              style=\"display:none;\">\n",
              "\n",
              "  <svg xmlns=\"http://www.w3.org/2000/svg\" height=\"24px\"viewBox=\"0 0 24 24\"\n",
              "       width=\"24px\">\n",
              "    <path d=\"M0 0h24v24H0V0z\" fill=\"none\"/>\n",
              "    <path d=\"M18.56 5.44l.94 2.06.94-2.06 2.06-.94-2.06-.94-.94-2.06-.94 2.06-2.06.94zm-11 1L8.5 8.5l.94-2.06 2.06-.94-2.06-.94L8.5 2.5l-.94 2.06-2.06.94zm10 10l.94 2.06.94-2.06 2.06-.94-2.06-.94-.94-2.06-.94 2.06-2.06.94z\"/><path d=\"M17.41 7.96l-1.37-1.37c-.4-.4-.92-.59-1.43-.59-.52 0-1.04.2-1.43.59L10.3 9.45l-7.72 7.72c-.78.78-.78 2.05 0 2.83L4 21.41c.39.39.9.59 1.41.59.51 0 1.02-.2 1.41-.59l7.78-7.78 2.81-2.81c.8-.78.8-2.07 0-2.86zM5.41 20L4 18.59l7.72-7.72 1.47 1.35L5.41 20z\"/>\n",
              "  </svg>\n",
              "      </button>\n",
              "\n",
              "\n",
              "\n",
              "    <div id=\"df-5d8f6016-a00a-4ea1-a649-5a4679eaf5f4\">\n",
              "      <button class=\"colab-df-quickchart\" onclick=\"quickchart('df-5d8f6016-a00a-4ea1-a649-5a4679eaf5f4')\"\n",
              "              title=\"Suggest charts.\"\n",
              "              style=\"display:none;\">\n",
              "\n",
              "<svg xmlns=\"http://www.w3.org/2000/svg\" height=\"24px\"viewBox=\"0 0 24 24\"\n",
              "     width=\"24px\">\n",
              "    <g>\n",
              "        <path d=\"M19 3H5c-1.1 0-2 .9-2 2v14c0 1.1.9 2 2 2h14c1.1 0 2-.9 2-2V5c0-1.1-.9-2-2-2zM9 17H7v-7h2v7zm4 0h-2V7h2v10zm4 0h-2v-4h2v4z\"/>\n",
              "    </g>\n",
              "</svg>\n",
              "      </button>\n",
              "    </div>\n",
              "\n",
              "<style>\n",
              "  .colab-df-quickchart {\n",
              "    background-color: #E8F0FE;\n",
              "    border: none;\n",
              "    border-radius: 50%;\n",
              "    cursor: pointer;\n",
              "    display: none;\n",
              "    fill: #1967D2;\n",
              "    height: 32px;\n",
              "    padding: 0 0 0 0;\n",
              "    width: 32px;\n",
              "  }\n",
              "\n",
              "  .colab-df-quickchart:hover {\n",
              "    background-color: #E2EBFA;\n",
              "    box-shadow: 0px 1px 2px rgba(60, 64, 67, 0.3), 0px 1px 3px 1px rgba(60, 64, 67, 0.15);\n",
              "    fill: #174EA6;\n",
              "  }\n",
              "\n",
              "  [theme=dark] .colab-df-quickchart {\n",
              "    background-color: #3B4455;\n",
              "    fill: #D2E3FC;\n",
              "  }\n",
              "\n",
              "  [theme=dark] .colab-df-quickchart:hover {\n",
              "    background-color: #434B5C;\n",
              "    box-shadow: 0px 1px 3px 1px rgba(0, 0, 0, 0.15);\n",
              "    filter: drop-shadow(0px 1px 2px rgba(0, 0, 0, 0.3));\n",
              "    fill: #FFFFFF;\n",
              "  }\n",
              "</style>\n",
              "\n",
              "    <script>\n",
              "      async function quickchart(key) {\n",
              "        const containerElement = document.querySelector('#' + key);\n",
              "        const charts = await google.colab.kernel.invokeFunction(\n",
              "            'suggestCharts', [key], {});\n",
              "      }\n",
              "    </script>\n",
              "\n",
              "      <script>\n",
              "\n",
              "function displayQuickchartButton(domScope) {\n",
              "  let quickchartButtonEl =\n",
              "    domScope.querySelector('#df-5d8f6016-a00a-4ea1-a649-5a4679eaf5f4 button.colab-df-quickchart');\n",
              "  quickchartButtonEl.style.display =\n",
              "    google.colab.kernel.accessAllowed ? 'block' : 'none';\n",
              "}\n",
              "\n",
              "        displayQuickchartButton(document);\n",
              "      </script>\n",
              "      <style>\n",
              "    .colab-df-container {\n",
              "      display:flex;\n",
              "      flex-wrap:wrap;\n",
              "      gap: 12px;\n",
              "    }\n",
              "\n",
              "    .colab-df-convert {\n",
              "      background-color: #E8F0FE;\n",
              "      border: none;\n",
              "      border-radius: 50%;\n",
              "      cursor: pointer;\n",
              "      display: none;\n",
              "      fill: #1967D2;\n",
              "      height: 32px;\n",
              "      padding: 0 0 0 0;\n",
              "      width: 32px;\n",
              "    }\n",
              "\n",
              "    .colab-df-convert:hover {\n",
              "      background-color: #E2EBFA;\n",
              "      box-shadow: 0px 1px 2px rgba(60, 64, 67, 0.3), 0px 1px 3px 1px rgba(60, 64, 67, 0.15);\n",
              "      fill: #174EA6;\n",
              "    }\n",
              "\n",
              "    [theme=dark] .colab-df-convert {\n",
              "      background-color: #3B4455;\n",
              "      fill: #D2E3FC;\n",
              "    }\n",
              "\n",
              "    [theme=dark] .colab-df-convert:hover {\n",
              "      background-color: #434B5C;\n",
              "      box-shadow: 0px 1px 3px 1px rgba(0, 0, 0, 0.15);\n",
              "      filter: drop-shadow(0px 1px 2px rgba(0, 0, 0, 0.3));\n",
              "      fill: #FFFFFF;\n",
              "    }\n",
              "  </style>\n",
              "\n",
              "      <script>\n",
              "        const buttonEl =\n",
              "          document.querySelector('#df-e8344d5b-5dd2-4f59-8910-276e4a943b11 button.colab-df-convert');\n",
              "        buttonEl.style.display =\n",
              "          google.colab.kernel.accessAllowed ? 'block' : 'none';\n",
              "\n",
              "        async function convertToInteractive(key) {\n",
              "          const element = document.querySelector('#df-e8344d5b-5dd2-4f59-8910-276e4a943b11');\n",
              "          const dataTable =\n",
              "            await google.colab.kernel.invokeFunction('convertToInteractive',\n",
              "                                                     [key], {});\n",
              "          if (!dataTable) return;\n",
              "\n",
              "          const docLinkHtml = 'Like what you see? Visit the ' +\n",
              "            '<a target=\"_blank\" href=https://colab.research.google.com/notebooks/data_table.ipynb>data table notebook</a>'\n",
              "            + ' to learn more about interactive tables.';\n",
              "          element.innerHTML = '';\n",
              "          dataTable['output_type'] = 'display_data';\n",
              "          await google.colab.output.renderOutput(dataTable, element);\n",
              "          const docLink = document.createElement('div');\n",
              "          docLink.innerHTML = docLinkHtml;\n",
              "          element.appendChild(docLink);\n",
              "        }\n",
              "      </script>\n",
              "    </div>\n",
              "  </div>\n"
            ]
          },
          "metadata": {},
          "execution_count": 9
        }
      ],
      "source": [
        "ratings.head()"
      ]
    },
    {
      "cell_type": "code",
      "execution_count": null,
      "id": "c0248521-596a-4207-baef-c4fc559d5e1d",
      "metadata": {
        "id": "c0248521-596a-4207-baef-c4fc559d5e1d",
        "colab": {
          "base_uri": "https://localhost:8080/"
        },
        "outputId": "e3bff474-5595-4edb-f965-e24250cc0782"
      },
      "outputs": [
        {
          "output_type": "execute_result",
          "data": {
            "text/plain": [
              "(5976479, 3)"
            ]
          },
          "metadata": {},
          "execution_count": 10
        }
      ],
      "source": [
        "ratings.shape"
      ]
    },
    {
      "cell_type": "code",
      "execution_count": null,
      "id": "2f20ae14-ad6d-4430-97da-f40f7e25cb38",
      "metadata": {
        "id": "2f20ae14-ad6d-4430-97da-f40f7e25cb38",
        "colab": {
          "base_uri": "https://localhost:8080/"
        },
        "outputId": "72924a7b-faa8-4f54-e094-af9ab3fefb7f"
      },
      "outputs": [
        {
          "output_type": "execute_result",
          "data": {
            "text/plain": [
              "user_id    0\n",
              "book_id    0\n",
              "rating     0\n",
              "dtype: int64"
            ]
          },
          "metadata": {},
          "execution_count": 11
        }
      ],
      "source": [
        "ratings.isna().sum()"
      ]
    },
    {
      "cell_type": "code",
      "source": [
        "ratings.info()"
      ],
      "metadata": {
        "id": "11c4Z_JbEryD",
        "colab": {
          "base_uri": "https://localhost:8080/"
        },
        "outputId": "38d3fefd-3cb0-4aea-d644-df4184b02055"
      },
      "id": "11c4Z_JbEryD",
      "execution_count": null,
      "outputs": [
        {
          "output_type": "stream",
          "name": "stdout",
          "text": [
            "<class 'pandas.core.frame.DataFrame'>\n",
            "RangeIndex: 5976479 entries, 0 to 5976478\n",
            "Data columns (total 3 columns):\n",
            " #   Column   Dtype\n",
            "---  ------   -----\n",
            " 0   user_id  int64\n",
            " 1   book_id  int64\n",
            " 2   rating   int64\n",
            "dtypes: int64(3)\n",
            "memory usage: 136.8 MB\n"
          ]
        }
      ]
    },
    {
      "cell_type": "code",
      "source": [
        "print(ratings[\"book_id\"].nunique())\n",
        "print(books[\"book_id\"].nunique())"
      ],
      "metadata": {
        "id": "S2oUdixp_3CE",
        "colab": {
          "base_uri": "https://localhost:8080/"
        },
        "outputId": "4e725385-8fa6-4a0b-91f0-d1d73dd59bf0"
      },
      "id": "S2oUdixp_3CE",
      "execution_count": null,
      "outputs": [
        {
          "output_type": "stream",
          "name": "stdout",
          "text": [
            "10000\n",
            "10000\n"
          ]
        }
      ]
    },
    {
      "cell_type": "code",
      "source": [
        "print(ratings[\"user_id\"].nunique())"
      ],
      "metadata": {
        "colab": {
          "base_uri": "https://localhost:8080/"
        },
        "id": "VXCsaSKxRlcg",
        "outputId": "68a35b7c-d2ab-4bd8-8c43-140204ba7c45"
      },
      "id": "VXCsaSKxRlcg",
      "execution_count": null,
      "outputs": [
        {
          "output_type": "stream",
          "name": "stdout",
          "text": [
            "53424\n"
          ]
        }
      ]
    },
    {
      "cell_type": "markdown",
      "source": [
        "## Matrix Factorization with SVD\n",
        "\n",
        "The scipy library has a function SVD() that decomposes a matrix into three matrices. This function is used to approximate the rating matrix and then predictions are made according to the approximated rating matrix.\n"
      ],
      "metadata": {
        "id": "G4bbCxdQex5H"
      },
      "id": "G4bbCxdQex5H"
    },
    {
      "cell_type": "code",
      "source": [
        "def getUserRatings(user_id, ratings_df, books_df):\n",
        "  user_ratings = ratings_df.loc[ratings_df[\"user_id\"]==user_id, [\"book_id\", \"rating\"]]\n",
        "  user_ratings = user_ratings.sort_values(\"rating\", ascending = False)\n",
        "  book_ratings = user_ratings.rating.to_list()\n",
        "  book_tr = []\n",
        "  book_ids = user_ratings[\"book_id\"].to_list()\n",
        "  for i in range(len(book_ids)):\n",
        "    book_tr.append((getBookTitle(book_ids[i], books_df), book_ratings[i]))\n",
        "  return book_tr"
      ],
      "metadata": {
        "id": "0DVPp-zrlT0z"
      },
      "id": "0DVPp-zrlT0z",
      "execution_count": null,
      "outputs": []
    },
    {
      "cell_type": "code",
      "execution_count": null,
      "id": "e5223b2d-09b5-4832-bf34-0c264fffdac8",
      "metadata": {
        "id": "e5223b2d-09b5-4832-bf34-0c264fffdac8"
      },
      "outputs": [],
      "source": [
        "def MFSVDRecommender(df_preds, user_id, ratings_df, books_df, K):\n",
        "\n",
        "  already_rated = ratings_df.loc[ratings_df[\"user_id\"]==user_id, \"book_id\"].tolist()\n",
        "  not_rated = df_preds.drop(columns=already_rated)\n",
        "\n",
        "  pred_ratings_for_user = not_rated.loc[user_id].sort_values(ascending=False).iloc[:K]\n",
        "  recommended_book_list = pred_ratings_for_user.index.to_list()\n",
        "  pred_ratings_for_user = pred_ratings_for_user.to_list()\n",
        "  recommended_book_tr = []\n",
        "\n",
        "  for i in range(len(recommended_book_list)):\n",
        "    recommended_book_tr.append((getBookTitle(recommended_book_list[i], books_df), pred_ratings_for_user[i]))\n",
        "\n",
        "  return recommended_book_tr\n"
      ]
    },
    {
      "cell_type": "code",
      "source": [
        "def calcErrors(r_preds, matrix_df):\n",
        "  npy_actual = matrix_df.to_numpy()\n",
        "  mae = np.mean(np.abs(npy_actual-r_preds))\n",
        "  rmse = np.sqrt(np.mean((npy_actual-r_preds)**2))\n",
        "  return mae, rmse"
      ],
      "metadata": {
        "id": "romnQfXAxzAW"
      },
      "id": "romnQfXAxzAW",
      "execution_count": null,
      "outputs": []
    },
    {
      "cell_type": "code",
      "source": [
        "def getBookTitle(book_id, book_df):\n",
        "  title = book_df.loc[book_df[\"book_id\"]==book_id, \"title\"].item()\n",
        "  return title"
      ],
      "metadata": {
        "id": "kBMiFmqE9VXL"
      },
      "id": "kBMiFmqE9VXL",
      "execution_count": null,
      "outputs": []
    },
    {
      "cell_type": "code",
      "source": [
        "def printReccPT(bt_br, predicted=False):\n",
        "  bt = []\n",
        "  br = []\n",
        "  for b, r in bt_br:\n",
        "    bt.append(b)\n",
        "    br.append(r)\n",
        "\n",
        "  pt = PrettyTable()\n",
        "  pt.add_column(\"Book Title\", bt)\n",
        "  if predicted==True:\n",
        "    pt.add_column(\"Approximate Predicted User Rating\", br)\n",
        "  else:\n",
        "    pt.add_column(\"User Rating\", br)\n",
        "  pt.align = 'l'\n",
        "  print(pt)\n"
      ],
      "metadata": {
        "id": "jK3Fm2NooCaJ"
      },
      "id": "jK3Fm2NooCaJ",
      "execution_count": null,
      "outputs": []
    },
    {
      "cell_type": "code",
      "source": [
        "def MFSVD(matrix_df, lf):\n",
        "\n",
        "  matrix_m = matrix_df.to_numpy()\n",
        "  mean_ratings = np.mean(matrix_m, axis = 1)\n",
        "  normalized_m = matrix_m - mean_ratings.reshape(-1, 1)\n",
        "\n",
        "  normalized_m = normalized_m.astype(np.float32)\n",
        "  u, eps, vt = svds(normalized_m, k = lf)\n",
        "  eps_diag = np.diag(eps)\n",
        "  udoteps = np.dot(u, eps_diag)\n",
        "  r_preds = np.dot(udoteps, vt)\n",
        "  r_preds = r_preds + mean_ratings.reshape(-1,1)\n",
        "\n",
        "\n",
        "  return r_preds"
      ],
      "metadata": {
        "id": "hQwBefFAuURj"
      },
      "id": "hQwBefFAuURj",
      "execution_count": null,
      "outputs": []
    },
    {
      "cell_type": "code",
      "execution_count": null,
      "id": "f7697634-d708-442b-9670-c352b86d3170",
      "metadata": {
        "id": "f7697634-d708-442b-9670-c352b86d3170"
      },
      "outputs": [],
      "source": [
        "matrix_df = ratings.pivot(index=\"user_id\",columns=\"book_id\", values=\"rating\").fillna(0).astype(np.float32)"
      ]
    },
    {
      "cell_type": "code",
      "source": [
        "matrix_df.head()"
      ],
      "metadata": {
        "colab": {
          "base_uri": "https://localhost:8080/",
          "height": 267
        },
        "id": "NLGti_sX-elx",
        "outputId": "4191f887-3447-49e9-8a26-fd5c51519c48"
      },
      "id": "NLGti_sX-elx",
      "execution_count": null,
      "outputs": [
        {
          "output_type": "execute_result",
          "data": {
            "text/plain": [
              "book_id  1      2      3      4      5      6      7      8      9      10     \\\n",
              "user_id                                                                         \n",
              "1          0.0    0.0    0.0    5.0    0.0    0.0    0.0    0.0    0.0    4.0   \n",
              "2          0.0    5.0    0.0    0.0    5.0    0.0    0.0    4.0    0.0    5.0   \n",
              "3          0.0    0.0    0.0    3.0    0.0    0.0    0.0    0.0    0.0    0.0   \n",
              "4          0.0    5.0    0.0    4.0    4.0    0.0    4.0    4.0    0.0    5.0   \n",
              "5          0.0    0.0    0.0    0.0    0.0    4.0    0.0    0.0    0.0    0.0   \n",
              "\n",
              "book_id  ...  9991   9992   9993   9994   9995   9996   9997   9998   9999   \\\n",
              "user_id  ...                                                                  \n",
              "1        ...    0.0    0.0    0.0    0.0    0.0    0.0    0.0    0.0    0.0   \n",
              "2        ...    0.0    0.0    0.0    0.0    0.0    0.0    0.0    0.0    0.0   \n",
              "3        ...    0.0    0.0    0.0    0.0    0.0    0.0    0.0    0.0    0.0   \n",
              "4        ...    0.0    0.0    0.0    0.0    0.0    0.0    0.0    0.0    0.0   \n",
              "5        ...    0.0    0.0    0.0    0.0    0.0    0.0    0.0    0.0    0.0   \n",
              "\n",
              "book_id  10000  \n",
              "user_id         \n",
              "1          0.0  \n",
              "2          0.0  \n",
              "3          0.0  \n",
              "4          0.0  \n",
              "5          0.0  \n",
              "\n",
              "[5 rows x 10000 columns]"
            ],
            "text/html": [
              "\n",
              "\n",
              "  <div id=\"df-7438c143-f761-4cd0-81bc-50df3fc3c971\">\n",
              "    <div class=\"colab-df-container\">\n",
              "      <div>\n",
              "<style scoped>\n",
              "    .dataframe tbody tr th:only-of-type {\n",
              "        vertical-align: middle;\n",
              "    }\n",
              "\n",
              "    .dataframe tbody tr th {\n",
              "        vertical-align: top;\n",
              "    }\n",
              "\n",
              "    .dataframe thead th {\n",
              "        text-align: right;\n",
              "    }\n",
              "</style>\n",
              "<table border=\"1\" class=\"dataframe\">\n",
              "  <thead>\n",
              "    <tr style=\"text-align: right;\">\n",
              "      <th>book_id</th>\n",
              "      <th>1</th>\n",
              "      <th>2</th>\n",
              "      <th>3</th>\n",
              "      <th>4</th>\n",
              "      <th>5</th>\n",
              "      <th>6</th>\n",
              "      <th>7</th>\n",
              "      <th>8</th>\n",
              "      <th>9</th>\n",
              "      <th>10</th>\n",
              "      <th>...</th>\n",
              "      <th>9991</th>\n",
              "      <th>9992</th>\n",
              "      <th>9993</th>\n",
              "      <th>9994</th>\n",
              "      <th>9995</th>\n",
              "      <th>9996</th>\n",
              "      <th>9997</th>\n",
              "      <th>9998</th>\n",
              "      <th>9999</th>\n",
              "      <th>10000</th>\n",
              "    </tr>\n",
              "    <tr>\n",
              "      <th>user_id</th>\n",
              "      <th></th>\n",
              "      <th></th>\n",
              "      <th></th>\n",
              "      <th></th>\n",
              "      <th></th>\n",
              "      <th></th>\n",
              "      <th></th>\n",
              "      <th></th>\n",
              "      <th></th>\n",
              "      <th></th>\n",
              "      <th></th>\n",
              "      <th></th>\n",
              "      <th></th>\n",
              "      <th></th>\n",
              "      <th></th>\n",
              "      <th></th>\n",
              "      <th></th>\n",
              "      <th></th>\n",
              "      <th></th>\n",
              "      <th></th>\n",
              "      <th></th>\n",
              "    </tr>\n",
              "  </thead>\n",
              "  <tbody>\n",
              "    <tr>\n",
              "      <th>1</th>\n",
              "      <td>0.0</td>\n",
              "      <td>0.0</td>\n",
              "      <td>0.0</td>\n",
              "      <td>5.0</td>\n",
              "      <td>0.0</td>\n",
              "      <td>0.0</td>\n",
              "      <td>0.0</td>\n",
              "      <td>0.0</td>\n",
              "      <td>0.0</td>\n",
              "      <td>4.0</td>\n",
              "      <td>...</td>\n",
              "      <td>0.0</td>\n",
              "      <td>0.0</td>\n",
              "      <td>0.0</td>\n",
              "      <td>0.0</td>\n",
              "      <td>0.0</td>\n",
              "      <td>0.0</td>\n",
              "      <td>0.0</td>\n",
              "      <td>0.0</td>\n",
              "      <td>0.0</td>\n",
              "      <td>0.0</td>\n",
              "    </tr>\n",
              "    <tr>\n",
              "      <th>2</th>\n",
              "      <td>0.0</td>\n",
              "      <td>5.0</td>\n",
              "      <td>0.0</td>\n",
              "      <td>0.0</td>\n",
              "      <td>5.0</td>\n",
              "      <td>0.0</td>\n",
              "      <td>0.0</td>\n",
              "      <td>4.0</td>\n",
              "      <td>0.0</td>\n",
              "      <td>5.0</td>\n",
              "      <td>...</td>\n",
              "      <td>0.0</td>\n",
              "      <td>0.0</td>\n",
              "      <td>0.0</td>\n",
              "      <td>0.0</td>\n",
              "      <td>0.0</td>\n",
              "      <td>0.0</td>\n",
              "      <td>0.0</td>\n",
              "      <td>0.0</td>\n",
              "      <td>0.0</td>\n",
              "      <td>0.0</td>\n",
              "    </tr>\n",
              "    <tr>\n",
              "      <th>3</th>\n",
              "      <td>0.0</td>\n",
              "      <td>0.0</td>\n",
              "      <td>0.0</td>\n",
              "      <td>3.0</td>\n",
              "      <td>0.0</td>\n",
              "      <td>0.0</td>\n",
              "      <td>0.0</td>\n",
              "      <td>0.0</td>\n",
              "      <td>0.0</td>\n",
              "      <td>0.0</td>\n",
              "      <td>...</td>\n",
              "      <td>0.0</td>\n",
              "      <td>0.0</td>\n",
              "      <td>0.0</td>\n",
              "      <td>0.0</td>\n",
              "      <td>0.0</td>\n",
              "      <td>0.0</td>\n",
              "      <td>0.0</td>\n",
              "      <td>0.0</td>\n",
              "      <td>0.0</td>\n",
              "      <td>0.0</td>\n",
              "    </tr>\n",
              "    <tr>\n",
              "      <th>4</th>\n",
              "      <td>0.0</td>\n",
              "      <td>5.0</td>\n",
              "      <td>0.0</td>\n",
              "      <td>4.0</td>\n",
              "      <td>4.0</td>\n",
              "      <td>0.0</td>\n",
              "      <td>4.0</td>\n",
              "      <td>4.0</td>\n",
              "      <td>0.0</td>\n",
              "      <td>5.0</td>\n",
              "      <td>...</td>\n",
              "      <td>0.0</td>\n",
              "      <td>0.0</td>\n",
              "      <td>0.0</td>\n",
              "      <td>0.0</td>\n",
              "      <td>0.0</td>\n",
              "      <td>0.0</td>\n",
              "      <td>0.0</td>\n",
              "      <td>0.0</td>\n",
              "      <td>0.0</td>\n",
              "      <td>0.0</td>\n",
              "    </tr>\n",
              "    <tr>\n",
              "      <th>5</th>\n",
              "      <td>0.0</td>\n",
              "      <td>0.0</td>\n",
              "      <td>0.0</td>\n",
              "      <td>0.0</td>\n",
              "      <td>0.0</td>\n",
              "      <td>4.0</td>\n",
              "      <td>0.0</td>\n",
              "      <td>0.0</td>\n",
              "      <td>0.0</td>\n",
              "      <td>0.0</td>\n",
              "      <td>...</td>\n",
              "      <td>0.0</td>\n",
              "      <td>0.0</td>\n",
              "      <td>0.0</td>\n",
              "      <td>0.0</td>\n",
              "      <td>0.0</td>\n",
              "      <td>0.0</td>\n",
              "      <td>0.0</td>\n",
              "      <td>0.0</td>\n",
              "      <td>0.0</td>\n",
              "      <td>0.0</td>\n",
              "    </tr>\n",
              "  </tbody>\n",
              "</table>\n",
              "<p>5 rows × 10000 columns</p>\n",
              "</div>\n",
              "      <button class=\"colab-df-convert\" onclick=\"convertToInteractive('df-7438c143-f761-4cd0-81bc-50df3fc3c971')\"\n",
              "              title=\"Convert this dataframe to an interactive table.\"\n",
              "              style=\"display:none;\">\n",
              "\n",
              "  <svg xmlns=\"http://www.w3.org/2000/svg\" height=\"24px\"viewBox=\"0 0 24 24\"\n",
              "       width=\"24px\">\n",
              "    <path d=\"M0 0h24v24H0V0z\" fill=\"none\"/>\n",
              "    <path d=\"M18.56 5.44l.94 2.06.94-2.06 2.06-.94-2.06-.94-.94-2.06-.94 2.06-2.06.94zm-11 1L8.5 8.5l.94-2.06 2.06-.94-2.06-.94L8.5 2.5l-.94 2.06-2.06.94zm10 10l.94 2.06.94-2.06 2.06-.94-2.06-.94-.94-2.06-.94 2.06-2.06.94z\"/><path d=\"M17.41 7.96l-1.37-1.37c-.4-.4-.92-.59-1.43-.59-.52 0-1.04.2-1.43.59L10.3 9.45l-7.72 7.72c-.78.78-.78 2.05 0 2.83L4 21.41c.39.39.9.59 1.41.59.51 0 1.02-.2 1.41-.59l7.78-7.78 2.81-2.81c.8-.78.8-2.07 0-2.86zM5.41 20L4 18.59l7.72-7.72 1.47 1.35L5.41 20z\"/>\n",
              "  </svg>\n",
              "      </button>\n",
              "\n",
              "\n",
              "\n",
              "    <div id=\"df-6b06ad1f-f247-4b2b-8f29-a7c88e75cb50\">\n",
              "      <button class=\"colab-df-quickchart\" onclick=\"quickchart('df-6b06ad1f-f247-4b2b-8f29-a7c88e75cb50')\"\n",
              "              title=\"Suggest charts.\"\n",
              "              style=\"display:none;\">\n",
              "\n",
              "<svg xmlns=\"http://www.w3.org/2000/svg\" height=\"24px\"viewBox=\"0 0 24 24\"\n",
              "     width=\"24px\">\n",
              "    <g>\n",
              "        <path d=\"M19 3H5c-1.1 0-2 .9-2 2v14c0 1.1.9 2 2 2h14c1.1 0 2-.9 2-2V5c0-1.1-.9-2-2-2zM9 17H7v-7h2v7zm4 0h-2V7h2v10zm4 0h-2v-4h2v4z\"/>\n",
              "    </g>\n",
              "</svg>\n",
              "      </button>\n",
              "    </div>\n",
              "\n",
              "<style>\n",
              "  .colab-df-quickchart {\n",
              "    background-color: #E8F0FE;\n",
              "    border: none;\n",
              "    border-radius: 50%;\n",
              "    cursor: pointer;\n",
              "    display: none;\n",
              "    fill: #1967D2;\n",
              "    height: 32px;\n",
              "    padding: 0 0 0 0;\n",
              "    width: 32px;\n",
              "  }\n",
              "\n",
              "  .colab-df-quickchart:hover {\n",
              "    background-color: #E2EBFA;\n",
              "    box-shadow: 0px 1px 2px rgba(60, 64, 67, 0.3), 0px 1px 3px 1px rgba(60, 64, 67, 0.15);\n",
              "    fill: #174EA6;\n",
              "  }\n",
              "\n",
              "  [theme=dark] .colab-df-quickchart {\n",
              "    background-color: #3B4455;\n",
              "    fill: #D2E3FC;\n",
              "  }\n",
              "\n",
              "  [theme=dark] .colab-df-quickchart:hover {\n",
              "    background-color: #434B5C;\n",
              "    box-shadow: 0px 1px 3px 1px rgba(0, 0, 0, 0.15);\n",
              "    filter: drop-shadow(0px 1px 2px rgba(0, 0, 0, 0.3));\n",
              "    fill: #FFFFFF;\n",
              "  }\n",
              "</style>\n",
              "\n",
              "    <script>\n",
              "      async function quickchart(key) {\n",
              "        const containerElement = document.querySelector('#' + key);\n",
              "        const charts = await google.colab.kernel.invokeFunction(\n",
              "            'suggestCharts', [key], {});\n",
              "      }\n",
              "    </script>\n",
              "\n",
              "      <script>\n",
              "\n",
              "function displayQuickchartButton(domScope) {\n",
              "  let quickchartButtonEl =\n",
              "    domScope.querySelector('#df-6b06ad1f-f247-4b2b-8f29-a7c88e75cb50 button.colab-df-quickchart');\n",
              "  quickchartButtonEl.style.display =\n",
              "    google.colab.kernel.accessAllowed ? 'block' : 'none';\n",
              "}\n",
              "\n",
              "        displayQuickchartButton(document);\n",
              "      </script>\n",
              "      <style>\n",
              "    .colab-df-container {\n",
              "      display:flex;\n",
              "      flex-wrap:wrap;\n",
              "      gap: 12px;\n",
              "    }\n",
              "\n",
              "    .colab-df-convert {\n",
              "      background-color: #E8F0FE;\n",
              "      border: none;\n",
              "      border-radius: 50%;\n",
              "      cursor: pointer;\n",
              "      display: none;\n",
              "      fill: #1967D2;\n",
              "      height: 32px;\n",
              "      padding: 0 0 0 0;\n",
              "      width: 32px;\n",
              "    }\n",
              "\n",
              "    .colab-df-convert:hover {\n",
              "      background-color: #E2EBFA;\n",
              "      box-shadow: 0px 1px 2px rgba(60, 64, 67, 0.3), 0px 1px 3px 1px rgba(60, 64, 67, 0.15);\n",
              "      fill: #174EA6;\n",
              "    }\n",
              "\n",
              "    [theme=dark] .colab-df-convert {\n",
              "      background-color: #3B4455;\n",
              "      fill: #D2E3FC;\n",
              "    }\n",
              "\n",
              "    [theme=dark] .colab-df-convert:hover {\n",
              "      background-color: #434B5C;\n",
              "      box-shadow: 0px 1px 3px 1px rgba(0, 0, 0, 0.15);\n",
              "      filter: drop-shadow(0px 1px 2px rgba(0, 0, 0, 0.3));\n",
              "      fill: #FFFFFF;\n",
              "    }\n",
              "  </style>\n",
              "\n",
              "      <script>\n",
              "        const buttonEl =\n",
              "          document.querySelector('#df-7438c143-f761-4cd0-81bc-50df3fc3c971 button.colab-df-convert');\n",
              "        buttonEl.style.display =\n",
              "          google.colab.kernel.accessAllowed ? 'block' : 'none';\n",
              "\n",
              "        async function convertToInteractive(key) {\n",
              "          const element = document.querySelector('#df-7438c143-f761-4cd0-81bc-50df3fc3c971');\n",
              "          const dataTable =\n",
              "            await google.colab.kernel.invokeFunction('convertToInteractive',\n",
              "                                                     [key], {});\n",
              "          if (!dataTable) return;\n",
              "\n",
              "          const docLinkHtml = 'Like what you see? Visit the ' +\n",
              "            '<a target=\"_blank\" href=https://colab.research.google.com/notebooks/data_table.ipynb>data table notebook</a>'\n",
              "            + ' to learn more about interactive tables.';\n",
              "          element.innerHTML = '';\n",
              "          dataTable['output_type'] = 'display_data';\n",
              "          await google.colab.output.renderOutput(dataTable, element);\n",
              "          const docLink = document.createElement('div');\n",
              "          docLink.innerHTML = docLinkHtml;\n",
              "          element.appendChild(docLink);\n",
              "        }\n",
              "      </script>\n",
              "    </div>\n",
              "  </div>\n"
            ]
          },
          "metadata": {},
          "execution_count": 68
        }
      ]
    },
    {
      "cell_type": "code",
      "source": [
        "matrix_df.info()"
      ],
      "metadata": {
        "colab": {
          "base_uri": "https://localhost:8080/"
        },
        "id": "IWuhvi9KDdCn",
        "outputId": "38a32b27-1d5a-46dc-d4c4-7f5dd1acb1ad"
      },
      "id": "IWuhvi9KDdCn",
      "execution_count": null,
      "outputs": [
        {
          "output_type": "stream",
          "name": "stdout",
          "text": [
            "<class 'pandas.core.frame.DataFrame'>\n",
            "Int64Index: 53424 entries, 1 to 53424\n",
            "Columns: 10000 entries, 1 to 10000\n",
            "dtypes: float32(10000)\n",
            "memory usage: 2.0 GB\n"
          ]
        }
      ]
    },
    {
      "cell_type": "code",
      "execution_count": null,
      "id": "385293f5-c77f-4394-8266-00cc4e40437e",
      "metadata": {
        "id": "385293f5-c77f-4394-8266-00cc4e40437e",
        "colab": {
          "base_uri": "https://localhost:8080/"
        },
        "outputId": "bc39ac13-10f9-403e-c0e6-f59920b472e6"
      },
      "outputs": [
        {
          "output_type": "stream",
          "name": "stdout",
          "text": [
            "Time taken to run:\n"
          ]
        }
      ],
      "source": [
        "r_preds = MFSVD(matrix_df, 50)\n",
        "df_preds = pd.DataFrame(r_preds, columns=matrix_df.columns).astype(np.int8)\n"
      ]
    },
    {
      "cell_type": "code",
      "source": [
        "df_preds.info()"
      ],
      "metadata": {
        "colab": {
          "base_uri": "https://localhost:8080/"
        },
        "id": "ch0Nn_buOsMp",
        "outputId": "7948a0b7-68f1-41ec-a8aa-1b6c22a5f057"
      },
      "id": "ch0Nn_buOsMp",
      "execution_count": null,
      "outputs": [
        {
          "output_type": "stream",
          "name": "stdout",
          "text": [
            "<class 'pandas.core.frame.DataFrame'>\n",
            "RangeIndex: 53424 entries, 0 to 53423\n",
            "Columns: 10000 entries, 1 to 10000\n",
            "dtypes: int8(10000)\n",
            "memory usage: 509.5 MB\n"
          ]
        }
      ]
    },
    {
      "cell_type": "markdown",
      "source": [
        "### Testing for an arbitrary user id\n",
        "\n",
        "I test the model by using an arbitrary user id, such as user id 9. The interaction history (books rated) of the user is first displayed. Then, a function is called which sorts the ratings that the user 9 is expected to assign to books that they have not read as of yet in descending order and displays K = 5 such books"
      ],
      "metadata": {
        "id": "EcoMAVartKSV"
      },
      "id": "EcoMAVartKSV"
    },
    {
      "cell_type": "code",
      "source": [
        "user_history = getUserRatings(9, ratings, books)"
      ],
      "metadata": {
        "id": "JXiTsnLBnqEZ"
      },
      "id": "JXiTsnLBnqEZ",
      "execution_count": null,
      "outputs": []
    },
    {
      "cell_type": "code",
      "source": [
        "printReccPT(user_history)"
      ],
      "metadata": {
        "colab": {
          "base_uri": "https://localhost:8080/"
        },
        "id": "5jsFo0NwwnW_",
        "outputId": "82b3a7d8-cd3f-4ec1-b1ed-bae3161505a6"
      },
      "id": "5jsFo0NwwnW_",
      "execution_count": null,
      "outputs": [
        {
          "output_type": "stream",
          "name": "stdout",
          "text": [
            "+------------------------------------------------------------------------------------------------------------------------------+-------------+\n",
            "| Book Title                                                                                                                   | User Rating |\n",
            "+------------------------------------------------------------------------------------------------------------------------------+-------------+\n",
            "| The Great Gatsby                                                                                                             | 5           |\n",
            "| Bel Canto                                                                                                                    | 5           |\n",
            "| Breaking Dawn (Twilight, #4)                                                                                                 | 5           |\n",
            "| Blubber                                                                                                                      | 5           |\n",
            "| No Country for Old Men                                                                                                       | 5           |\n",
            "| The Shadow of the Wind (The Cemetery of Forgotten Books,  #1)                                                                | 5           |\n",
            "| In Cold Blood                                                                                                                | 5           |\n",
            "| The Mysteries of Pittsburgh                                                                                                  | 5           |\n",
            "| Motherless Brooklyn                                                                                                          | 5           |\n",
            "| The Omnivore's Dilemma: A Natural History of Four Meals                                                                      | 5           |\n",
            "| High Fidelity                                                                                                                | 5           |\n",
            "| Winter's Tale                                                                                                                | 5           |\n",
            "| The Curious Incident of the Dog in the Night-Time                                                                            | 5           |\n",
            "| Harry Potter and the Prisoner of Azkaban (Harry Potter, #3)                                                                  | 5           |\n",
            "| Harry Potter and the Deathly Hallows (Harry Potter, #7)                                                                      | 5           |\n",
            "| Atonement                                                                                                                    | 5           |\n",
            "| Me Talk Pretty One Day                                                                                                       | 5           |\n",
            "| One Hundred Years of Solitude                                                                                                | 5           |\n",
            "| Holidays on Ice                                                                                                              | 5           |\n",
            "| 1984                                                                                                                         | 5           |\n",
            "| Lolita                                                                                                                       | 5           |\n",
            "| Let the Great World Spin                                                                                                     | 5           |\n",
            "| The Hours                                                                                                                    | 5           |\n",
            "| Pride and Prejudice                                                                                                          | 5           |\n",
            "| Franny and Zooey                                                                                                             | 5           |\n",
            "| Lord of the Flies                                                                                                            | 4           |\n",
            "| Middlesex                                                                                                                    | 4           |\n",
            "| Angela's Ashes (Frank McCourt, #1)                                                                                           | 4           |\n",
            "| Lucky                                                                                                                        | 4           |\n",
            "| Prep                                                                                                                         | 4           |\n",
            "| Norwegian Wood                                                                                                               | 4           |\n",
            "| Brave New World                                                                                                              | 4           |\n",
            "| Wonder Boys                                                                                                                  | 4           |\n",
            "| A Moveable Feast                                                                                                             | 4           |\n",
            "| Life of Pi                                                                                                                   | 4           |\n",
            "| Watchmen                                                                                                                     | 4           |\n",
            "| Dracula                                                                                                                      | 4           |\n",
            "| Gone Girl                                                                                                                    | 4           |\n",
            "| The Fortress of Solitude                                                                                                     | 4           |\n",
            "| Mockingjay (The Hunger Games, #3)                                                                                            | 4           |\n",
            "| The Hunger Games (The Hunger Games, #1)                                                                                      | 4           |\n",
            "| The End of the Affair                                                                                                        | 4           |\n",
            "| The Alienist (Dr. Laszlo Kreizler, #1)                                                                                       | 4           |\n",
            "| Harry Potter and the Half-Blood Prince (Harry Potter, #6)                                                                    | 4           |\n",
            "| Harry Potter and the Sorcerer's Stone (Harry Potter, #1)                                                                     | 4           |\n",
            "| Twilight (Twilight, #1)                                                                                                      | 4           |\n",
            "| Lush Life                                                                                                                    | 4           |\n",
            "| World War Z: An Oral History of the Zombie War                                                                               | 4           |\n",
            "| The Rum Diary                                                                                                                | 4           |\n",
            "| The Sun Also Rises                                                                                                           | 4           |\n",
            "| The Brief Wondrous Life of Oscar Wao                                                                                         | 4           |\n",
            "| Eclipse (Twilight, #3)                                                                                                       | 4           |\n",
            "| New Moon (Twilight, #2)                                                                                                      | 4           |\n",
            "| The Corrections                                                                                                              | 4           |\n",
            "| Beautiful Ruins                                                                                                              | 4           |\n",
            "| Everything Is Illuminated                                                                                                    | 4           |\n",
            "| The Handmaid's Tale                                                                                                          | 4           |\n",
            "| I Know Why the Caged Bird Sings                                                                                              | 4           |\n",
            "| Animal Farm                                                                                                                  | 4           |\n",
            "| Breakfast at Tiffany's                                                                                                       | 4           |\n",
            "| Song of Solomon                                                                                                              | 4           |\n",
            "| Wicked: The Life and Times of the Wicked Witch of the West (The Wicked Years, #1)                                            | 4           |\n",
            "| Barrel Fever: Stories and Essays                                                                                             | 4           |\n",
            "| Emma                                                                                                                         | 4           |\n",
            "| Dress Your Family in Corduroy and Denim                                                                                      | 4           |\n",
            "| Sense and Sensibility                                                                                                        | 4           |\n",
            "| The Bell Jar                                                                                                                 | 4           |\n",
            "| Midnight's Children                                                                                                          | 4           |\n",
            "| About a Boy                                                                                                                  | 4           |\n",
            "| Naked                                                                                                                        | 4           |\n",
            "| White Teeth                                                                                                                  | 3           |\n",
            "| Mansfield Park                                                                                                               | 3           |\n",
            "| My Life in France                                                                                                            | 3           |\n",
            "| Three Cups of Tea: One Man's Mission to Promote Peace ... One School at a Time                                               | 3           |\n",
            "| A Handful of Dust                                                                                                            | 3           |\n",
            "| Running with Scissors                                                                                                        | 3           |\n",
            "| Harry Potter and the Order of the Phoenix (Harry Potter, #5)                                                                 | 3           |\n",
            "| Heat: An Amateur's Adventures as Kitchen Slave, Line Cook, Pasta-Maker, and Apprentice to a Dante-Quoting Butcher in Tuscany | 3           |\n",
            "| The Monsters of Templeton                                                                                                    | 3           |\n",
            "| Harry Potter and the Goblet of Fire (Harry Potter, #4)                                                                       | 3           |\n",
            "| The Dogs of Babel                                                                                                            | 3           |\n",
            "| Summer Sisters                                                                                                               | 3           |\n",
            "| The Girl Who Played with Fire (Millennium, #2)                                                                               | 3           |\n",
            "| Loving Frank                                                                                                                 | 3           |\n",
            "| Open                                                                                                                         | 3           |\n",
            "| Perfume: The Story of a Murderer                                                                                             | 3           |\n",
            "| One Day                                                                                                                      | 3           |\n",
            "| The Devil in the White City: Murder, Magic, and Madness at the Fair That Changed America                                     | 3           |\n",
            "| The Red Tent                                                                                                                 | 3           |\n",
            "| Bridget Jones's Diary (Bridget Jones, #1)                                                                                    | 3           |\n",
            "| Confessions of a Shopaholic (Shopaholic, #1)                                                                                 | 3           |\n",
            "| She's Come Undone                                                                                                            | 3           |\n",
            "| Shopaholic Takes Manhattan (Shopaholic, #2)                                                                                  | 3           |\n",
            "| Shopaholic Ties the Knot (Shopaholic, #3)                                                                                    | 3           |\n",
            "| White Oleander                                                                                                               | 3           |\n",
            "| Preludes & Nocturnes (The Sandman #1)                                                                                        | 3           |\n",
            "| The Lovely Bones                                                                                                             | 3           |\n",
            "| Bossypants                                                                                                                   | 3           |\n",
            "| Water for Elephants                                                                                                          | 3           |\n",
            "| The Time Traveler's Wife                                                                                                     | 3           |\n",
            "| Catching Fire (The Hunger Games, #2)                                                                                         | 3           |\n",
            "| Memoirs of a Geisha                                                                                                          | 3           |\n",
            "| Harry Potter and the Chamber of Secrets (Harry Potter, #2)                                                                   | 3           |\n",
            "| The Da Vinci Code (Robert Langdon, #2)                                                                                       | 2           |\n",
            "| The Secret History                                                                                                           | 2           |\n",
            "| Oryx and Crake (MaddAddam, #1)                                                                                               | 2           |\n",
            "| The Devil Wears Prada (The Devil Wears Prada, #1)                                                                            | 2           |\n",
            "| The Girl with the Dragon Tattoo (Millennium, #1)                                                                             | 2           |\n",
            "| The Rainmaker                                                                                                                | 2           |\n",
            "| Reading Lolita in Tehran                                                                                                     | 2           |\n",
            "| The Pilot's Wife                                                                                                             | 2           |\n",
            "| A Prayer for Owen Meany                                                                                                      | 2           |\n",
            "| The World According to Garp                                                                                                  | 2           |\n",
            "| The Metamorphosis                                                                                                            | 2           |\n",
            "| The Client                                                                                                                   | 2           |\n",
            "| The King of Torts                                                                                                            | 2           |\n",
            "| The Firm                                                                                                                     | 2           |\n",
            "| How to Be Good                                                                                                               | 2           |\n",
            "| The Last Juror                                                                                                               | 2           |\n",
            "| Saturday                                                                                                                     | 2           |\n",
            "| The Partner                                                                                                                  | 2           |\n",
            "| The Street Lawyer                                                                                                            | 2           |\n",
            "| The Testament                                                                                                                | 2           |\n",
            "| The Innocent Man: Murder and Injustice in a Small Town                                                                       | 2           |\n",
            "| The Broker                                                                                                                   | 2           |\n",
            "| Veronika Decides to Die                                                                                                      | 1           |\n",
            "| Angels & Demons  (Robert Langdon, #1)                                                                                        | 1           |\n",
            "| The Glass Castle                                                                                                             | 1           |\n",
            "| A Portrait of the Artist as a Young Man                                                                                      | 1           |\n",
            "| The Kite Runner                                                                                                              | 1           |\n",
            "| The Other Boleyn Girl (The Plantagenet and Tudor Novels, #9)                                                                 | 1           |\n",
            "| Bridget Jones: The Edge of Reason (Bridget Jones, #2)                                                                        | 1           |\n",
            "+------------------------------------------------------------------------------------------------------------------------------+-------------+\n"
          ]
        }
      ]
    },
    {
      "cell_type": "code",
      "source": [
        "recommended_books = MFSVDRecommender(df_preds, 9, ratings, books, K=5)"
      ],
      "metadata": {
        "id": "NDTTNeiwcKe3"
      },
      "id": "NDTTNeiwcKe3",
      "execution_count": null,
      "outputs": []
    },
    {
      "cell_type": "code",
      "source": [
        "printReccPT(recommended_books, predicted=True)"
      ],
      "metadata": {
        "colab": {
          "base_uri": "https://localhost:8080/"
        },
        "id": "ZQhIIWntlMKD",
        "outputId": "42bcdf9e-66d0-42f5-cc40-ce5b0535ec8b"
      },
      "id": "ZQhIIWntlMKD",
      "execution_count": null,
      "outputs": [
        {
          "output_type": "stream",
          "name": "stdout",
          "text": [
            "+--------------------------------------------------------+-----------------------------------+\n",
            "| Book Title                                             | Approximate Predicted User Rating |\n",
            "+--------------------------------------------------------+-----------------------------------+\n",
            "| To Kill a Mockingbird                                  | 4                                 |\n",
            "| The Hobbit                                             | 3                                 |\n",
            "| The Fellowship of the Ring (The Lord of the Rings, #1) | 3                                 |\n",
            "| The Girl Who Kicked the Hornet's Nest (Millennium, #3) | 3                                 |\n",
            "| A Thousand Splendid Suns                               | 3                                 |\n",
            "+--------------------------------------------------------+-----------------------------------+\n"
          ]
        }
      ]
    },
    {
      "cell_type": "code",
      "source": [
        "mae, rmse = calcErrors(r_preds, matrix_df)"
      ],
      "metadata": {
        "id": "Md9-xsw2lPfT"
      },
      "id": "Md9-xsw2lPfT",
      "execution_count": null,
      "outputs": []
    },
    {
      "cell_type": "code",
      "source": [
        "print(\"Mean absolute error:\", mae)\n",
        "print(\"Root mean squared error:\", rmse)"
      ],
      "metadata": {
        "colab": {
          "base_uri": "https://localhost:8080/"
        },
        "id": "koZpLLKeyaMe",
        "outputId": "933282f6-8a7a-4d2a-da7b-13928cb5f427"
      },
      "id": "koZpLLKeyaMe",
      "execution_count": null,
      "outputs": [
        {
          "output_type": "stream",
          "name": "stdout",
          "text": [
            "Mean absolute error: 0.08729442\n",
            "Root mean squared error: 0.366415\n"
          ]
        }
      ]
    },
    {
      "cell_type": "markdown",
      "source": [
        "## Matrix Factorization with gradient descent\n",
        "\n",
        "While SVD decomposes the rating matrix into three matrices, gradient descent can be used to factorize the rating matrix into 2 matrices from which the rating matrix can be approximated."
      ],
      "metadata": {
        "id": "uCKdhIU3fWNS"
      },
      "id": "uCKdhIU3fWNS"
    },
    {
      "cell_type": "code",
      "source": [
        "def MFSGDRecommender(np_preds, user_id, book_df, rating_df, K):\n",
        "  np_preds = 1 + ((np_preds - np.min(np_preds)) * (5 - 1)) / (np.max(np_preds) - np.min(np_preds))\n",
        "  df_preds = pd.DataFrame(np_preds, columns=book_df[\"book_id\"])\n",
        "  already_rated = rating_df.loc[rating_df[\"user_id\"]==user_id, \"book_id\"].tolist()\n",
        "  not_rated = df_preds.drop(columns=already_rated)\n",
        "\n",
        "  pred_ratings_for_user = not_rated.loc[user_id].sort_values(ascending=False).iloc[:K]\n",
        "  recommended_book_list = pred_ratings_for_user.index.to_list()\n",
        "  pred_ratings_for_user = pred_ratings_for_user.to_list()\n",
        "  recommended_book_tr = []\n",
        "\n",
        "  for i in range(len(recommended_book_list)):\n",
        "    recommended_book_tr.append((getBookTitle(recommended_book_list[i], book_df), pred_ratings_for_user[i]))\n",
        "\n",
        "  return recommended_book_tr\n"
      ],
      "metadata": {
        "id": "B8O-SAbzx3VP"
      },
      "id": "B8O-SAbzx3VP",
      "execution_count": null,
      "outputs": []
    },
    {
      "cell_type": "code",
      "execution_count": null,
      "id": "ef3f15a5-868a-443a-b3c2-fdd350466a2d",
      "metadata": {
        "id": "ef3f15a5-868a-443a-b3c2-fdd350466a2d"
      },
      "outputs": [],
      "source": [
        "def MFSGDNonVectorized(matrix_df, LR, GAMMA, EPOCHS, LF):\n",
        "\n",
        "  '''\n",
        "\n",
        "  This is a non-vectorized implementation of matrix factorization with stochastic gradient descent. Very slow as it needs to loop over each\n",
        "  pair of user - book interaction that around 53,000 users in the dataset have with 10,000 books over EPOCHS number of iterations. However, the\n",
        "  space complexity is relatively low and I was able to incorporate user and item biases.\n",
        "\n",
        "  '''\n",
        "\n",
        "  matrix_np = matrix_df.to_numpy()\n",
        "  r, c = np.nonzero(matrix_np)\n",
        "  numBooks = len(matrix_df.columns)\n",
        "  numUsers = len(matrix_df.index)\n",
        "\n",
        "  # Parameters\n",
        "\n",
        "  lr = LR\n",
        "  gamma = GAMMA     # Regularization term\n",
        "  epochs = EPOCHS\n",
        "  lf = LF\n",
        "\n",
        "  # Initializations\n",
        "\n",
        "  u = np.random.uniform(-1, 1, size=(numUsers, lf))\n",
        "  v = np.random.uniform(-1, 1, size=(numBooks, lf))\n",
        "  b_user = np.zeros(numUsers)\n",
        "  b_book = np.zeros(numBooks)\n",
        "  b_overall = np.mean(matrix_np[np.where(matrix_np!=0)])\n",
        "\n",
        "  samples = [(i, j, matrix_np[i, j]) for i, j in zip(r, c)]\n",
        "\n",
        "  loss = []\n",
        "\n",
        "  # Stochastic Gradient Descent\n",
        "\n",
        "  for e in range(epochs):\n",
        "    print(\"Currently processing epoch:\", e+1)\n",
        "\n",
        "    np.random.shuffle(samples)\n",
        "\n",
        "    for i, j, r in samples:\n",
        "      pred = b_overall + b_user[i] + b_book[j] + u[i,:].dot(v[j,:].T)\n",
        "      error = r - pred\n",
        "\n",
        "      # Update biases\n",
        "      b_user[i] = b_user[i] + lr*(error - gamma*b_user[i])\n",
        "      b_book[j] = b_book[j] + lr*(error - gamma*b_book[j])\n",
        "\n",
        "      # Update user, book vectors\n",
        "      u[i, :] = u[i,:] + lr*(error * v[j, :] - gamma * u[i, :])\n",
        "      v[j, :] = v[j,:] + lr*(error * u[i, :] - gamma * v[j, :])\n",
        "\n",
        "    pred_mat = b_overall + b_user[:, np.newaxis] + b_book[np.newaxis, :] + u.dot(v.T)\n",
        "    mse = np.mean((matrix_np-pred_mat)**2)\n",
        "    loss.append(mse)\n",
        "\n",
        "  return u, v, loss"
      ]
    },
    {
      "cell_type": "code",
      "execution_count": null,
      "metadata": {
        "id": "heL8zoQFqLo2"
      },
      "outputs": [],
      "source": [
        "def MFGDVectorized(matrix_df, LR, GAMMA, EPOCHS, LF):\n",
        "\n",
        "  '''\n",
        "  This is a vectorized implementation of the gradient descent algorithm for matrix factorization. The time complexity is relative low, however the\n",
        "  space complexity is large due to the size of the dataset. A lot of memory is required for the matrix multiplications and to ensure that this\n",
        "  algorithm executes without crashing due to utilizing all the available RAM, I decided not to include user and item biases.\n",
        "  '''\n",
        "\n",
        "  matrix_np = matrix_df.to_numpy()\n",
        "\n",
        "  numBooks = 10000\n",
        "  numUsers = 53424\n",
        "\n",
        "  # Parameters\n",
        "\n",
        "  lr = LR\n",
        "  gamma = GAMMA     # Regularization term\n",
        "  epochs = EPOCHS\n",
        "  lf = LF\n",
        "\n",
        "  # Initializations\n",
        "\n",
        "  u = np.random.uniform(-1, 1, size=(numUsers, lf)).astype(np.float32)\n",
        "  v = np.random.uniform(-1, 1, size=(numBooks, lf)).astype(np.float32)\n",
        "\n",
        "  loss = []\n",
        "\n",
        "  # Gradient Descent\n",
        "\n",
        "  for e in range(epochs):\n",
        "    print(\"Currently processing epoch:\", e+1)\n",
        "\n",
        "    preds = (u @ v.T)\n",
        "    mse = np.square(matrix_np - preds).mean()\n",
        "\n",
        "\n",
        "    Upartial_der = -2.0/(numBooks * numUsers) * (matrix_np - preds)@(v)\n",
        "    Vpartial_der = -2.0/(numBooks * numUsers) * (matrix_np - preds).T@(u)\n",
        "\n",
        "    u = u - lr * Upartial_der\n",
        "    v = v - lr * Vpartial_der\n",
        "    loss.append(mse)\n",
        "\n",
        "  return u@v.T, loss"
      ],
      "id": "heL8zoQFqLo2"
    },
    {
      "cell_type": "code",
      "source": [
        "learning_rate = 1e-3\n",
        "gamma = 1e-3\n",
        "epochs = 5\n",
        "latent_factors = 70\n",
        "\n",
        "preds, loss = MFGDVectorized(matrix_df, learning_rate, gamma, epochs, latent_factors)\n",
        "\n"
      ],
      "metadata": {
        "colab": {
          "base_uri": "https://localhost:8080/"
        },
        "id": "phxNRgIIlOjl",
        "outputId": "6d24ff2d-92c3-432b-bd7a-f60e8690a6f9"
      },
      "id": "phxNRgIIlOjl",
      "execution_count": null,
      "outputs": [
        {
          "output_type": "stream",
          "name": "stdout",
          "text": [
            "Currently processing epoch: 1\n",
            "Currently processing epoch: 2\n",
            "Currently processing epoch: 3\n",
            "Currently processing epoch: 4\n",
            "Currently processing epoch: 5\n"
          ]
        }
      ]
    },
    {
      "cell_type": "code",
      "source": [
        "plt.plot(loss)\n",
        "plt.title(\"Loss over 10 epochs\")\n",
        "plt.xlabel(\"Epochs\")\n",
        "plt.ylabel(\"Loss\")\n",
        "plt.show()"
      ],
      "metadata": {
        "id": "GtZALuIapuMR",
        "colab": {
          "base_uri": "https://localhost:8080/",
          "height": 472
        },
        "outputId": "01b9156e-7280-4758-ad7c-646530ad60f3"
      },
      "id": "GtZALuIapuMR",
      "execution_count": null,
      "outputs": [
        {
          "output_type": "display_data",
          "data": {
            "text/plain": [
              "<Figure size 640x480 with 1 Axes>"
            ],
            "image/png": "[encoded data removed]"
          },
          "metadata": {}
        }
      ]
    },
    {
      "cell_type": "markdown",
      "source": [
        "As we can see, the loss (mean squared error) gets minimized over 10 epochs through stochastic gradient descent. The RMSE of this implementation appears to be greater than the RMSE for matrix factorization with scipy's svds() function. Perhaps a lower RMSE could be obtained by using the implementations of matrix factorization with stochastic gradient descent by libraries such as Surprise."
      ],
      "metadata": {
        "id": "g6xw9QgXtscX"
      },
      "id": "g6xw9QgXtscX"
    },
    {
      "cell_type": "markdown",
      "source": [
        "### Testing"
      ],
      "metadata": {
        "id": "jBU-UjK25OEo"
      },
      "id": "jBU-UjK25OEo"
    },
    {
      "cell_type": "markdown",
      "source": [
        "Now, we test the model for the same user id 9."
      ],
      "metadata": {
        "id": "J8mOHXBz5M32"
      },
      "id": "J8mOHXBz5M32"
    },
    {
      "cell_type": "code",
      "source": [
        "user_history = getUserRatings(9, ratings, books)\n",
        "printReccPT(user_history)"
      ],
      "metadata": {
        "id": "TFjFbwopve71",
        "colab": {
          "base_uri": "https://localhost:8080/"
        },
        "outputId": "676f123d-7aec-4dec-ec7e-009f337f9d8b"
      },
      "id": "TFjFbwopve71",
      "execution_count": null,
      "outputs": [
        {
          "output_type": "stream",
          "name": "stdout",
          "text": [
            "+------------------------------------------------------------------------------------------------------------------------------+-------------+\n",
            "| Book Title                                                                                                                   | User Rating |\n",
            "+------------------------------------------------------------------------------------------------------------------------------+-------------+\n",
            "| The Great Gatsby                                                                                                             | 5           |\n",
            "| Bel Canto                                                                                                                    | 5           |\n",
            "| Breaking Dawn (Twilight, #4)                                                                                                 | 5           |\n",
            "| Blubber                                                                                                                      | 5           |\n",
            "| No Country for Old Men                                                                                                       | 5           |\n",
            "| The Shadow of the Wind (The Cemetery of Forgotten Books,  #1)                                                                | 5           |\n",
            "| In Cold Blood                                                                                                                | 5           |\n",
            "| The Mysteries of Pittsburgh                                                                                                  | 5           |\n",
            "| Motherless Brooklyn                                                                                                          | 5           |\n",
            "| The Omnivore's Dilemma: A Natural History of Four Meals                                                                      | 5           |\n",
            "| High Fidelity                                                                                                                | 5           |\n",
            "| Winter's Tale                                                                                                                | 5           |\n",
            "| The Curious Incident of the Dog in the Night-Time                                                                            | 5           |\n",
            "| Harry Potter and the Prisoner of Azkaban (Harry Potter, #3)                                                                  | 5           |\n",
            "| Harry Potter and the Deathly Hallows (Harry Potter, #7)                                                                      | 5           |\n",
            "| Atonement                                                                                                                    | 5           |\n",
            "| Me Talk Pretty One Day                                                                                                       | 5           |\n",
            "| One Hundred Years of Solitude                                                                                                | 5           |\n",
            "| Holidays on Ice                                                                                                              | 5           |\n",
            "| 1984                                                                                                                         | 5           |\n",
            "| Lolita                                                                                                                       | 5           |\n",
            "| Let the Great World Spin                                                                                                     | 5           |\n",
            "| The Hours                                                                                                                    | 5           |\n",
            "| Pride and Prejudice                                                                                                          | 5           |\n",
            "| Franny and Zooey                                                                                                             | 5           |\n",
            "| Lord of the Flies                                                                                                            | 4           |\n",
            "| Middlesex                                                                                                                    | 4           |\n",
            "| Angela's Ashes (Frank McCourt, #1)                                                                                           | 4           |\n",
            "| Lucky                                                                                                                        | 4           |\n",
            "| Prep                                                                                                                         | 4           |\n",
            "| Norwegian Wood                                                                                                               | 4           |\n",
            "| Brave New World                                                                                                              | 4           |\n",
            "| Wonder Boys                                                                                                                  | 4           |\n",
            "| A Moveable Feast                                                                                                             | 4           |\n",
            "| Life of Pi                                                                                                                   | 4           |\n",
            "| Watchmen                                                                                                                     | 4           |\n",
            "| Dracula                                                                                                                      | 4           |\n",
            "| Gone Girl                                                                                                                    | 4           |\n",
            "| The Fortress of Solitude                                                                                                     | 4           |\n",
            "| Mockingjay (The Hunger Games, #3)                                                                                            | 4           |\n",
            "| The Hunger Games (The Hunger Games, #1)                                                                                      | 4           |\n",
            "| The End of the Affair                                                                                                        | 4           |\n",
            "| The Alienist (Dr. Laszlo Kreizler, #1)                                                                                       | 4           |\n",
            "| Harry Potter and the Half-Blood Prince (Harry Potter, #6)                                                                    | 4           |\n",
            "| Harry Potter and the Sorcerer's Stone (Harry Potter, #1)                                                                     | 4           |\n",
            "| Twilight (Twilight, #1)                                                                                                      | 4           |\n",
            "| Lush Life                                                                                                                    | 4           |\n",
            "| World War Z: An Oral History of the Zombie War                                                                               | 4           |\n",
            "| The Rum Diary                                                                                                                | 4           |\n",
            "| The Sun Also Rises                                                                                                           | 4           |\n",
            "| The Brief Wondrous Life of Oscar Wao                                                                                         | 4           |\n",
            "| Eclipse (Twilight, #3)                                                                                                       | 4           |\n",
            "| New Moon (Twilight, #2)                                                                                                      | 4           |\n",
            "| The Corrections                                                                                                              | 4           |\n",
            "| Beautiful Ruins                                                                                                              | 4           |\n",
            "| Everything Is Illuminated                                                                                                    | 4           |\n",
            "| The Handmaid's Tale                                                                                                          | 4           |\n",
            "| I Know Why the Caged Bird Sings                                                                                              | 4           |\n",
            "| Animal Farm                                                                                                                  | 4           |\n",
            "| Breakfast at Tiffany's                                                                                                       | 4           |\n",
            "| Song of Solomon                                                                                                              | 4           |\n",
            "| Wicked: The Life and Times of the Wicked Witch of the West (The Wicked Years, #1)                                            | 4           |\n",
            "| Barrel Fever: Stories and Essays                                                                                             | 4           |\n",
            "| Emma                                                                                                                         | 4           |\n",
            "| Dress Your Family in Corduroy and Denim                                                                                      | 4           |\n",
            "| Sense and Sensibility                                                                                                        | 4           |\n",
            "| The Bell Jar                                                                                                                 | 4           |\n",
            "| Midnight's Children                                                                                                          | 4           |\n",
            "| About a Boy                                                                                                                  | 4           |\n",
            "| Naked                                                                                                                        | 4           |\n",
            "| White Teeth                                                                                                                  | 3           |\n",
            "| Mansfield Park                                                                                                               | 3           |\n",
            "| My Life in France                                                                                                            | 3           |\n",
            "| Three Cups of Tea: One Man's Mission to Promote Peace ... One School at a Time                                               | 3           |\n",
            "| A Handful of Dust                                                                                                            | 3           |\n",
            "| Running with Scissors                                                                                                        | 3           |\n",
            "| Harry Potter and the Order of the Phoenix (Harry Potter, #5)                                                                 | 3           |\n",
            "| Heat: An Amateur's Adventures as Kitchen Slave, Line Cook, Pasta-Maker, and Apprentice to a Dante-Quoting Butcher in Tuscany | 3           |\n",
            "| The Monsters of Templeton                                                                                                    | 3           |\n",
            "| Harry Potter and the Goblet of Fire (Harry Potter, #4)                                                                       | 3           |\n",
            "| The Dogs of Babel                                                                                                            | 3           |\n",
            "| Summer Sisters                                                                                                               | 3           |\n",
            "| The Girl Who Played with Fire (Millennium, #2)                                                                               | 3           |\n",
            "| Loving Frank                                                                                                                 | 3           |\n",
            "| Open                                                                                                                         | 3           |\n",
            "| Perfume: The Story of a Murderer                                                                                             | 3           |\n",
            "| One Day                                                                                                                      | 3           |\n",
            "| The Devil in the White City: Murder, Magic, and Madness at the Fair That Changed America                                     | 3           |\n",
            "| The Red Tent                                                                                                                 | 3           |\n",
            "| Bridget Jones's Diary (Bridget Jones, #1)                                                                                    | 3           |\n",
            "| Confessions of a Shopaholic (Shopaholic, #1)                                                                                 | 3           |\n",
            "| She's Come Undone                                                                                                            | 3           |\n",
            "| Shopaholic Takes Manhattan (Shopaholic, #2)                                                                                  | 3           |\n",
            "| Shopaholic Ties the Knot (Shopaholic, #3)                                                                                    | 3           |\n",
            "| White Oleander                                                                                                               | 3           |\n",
            "| Preludes & Nocturnes (The Sandman #1)                                                                                        | 3           |\n",
            "| The Lovely Bones                                                                                                             | 3           |\n",
            "| Bossypants                                                                                                                   | 3           |\n",
            "| Water for Elephants                                                                                                          | 3           |\n",
            "| The Time Traveler's Wife                                                                                                     | 3           |\n",
            "| Catching Fire (The Hunger Games, #2)                                                                                         | 3           |\n",
            "| Memoirs of a Geisha                                                                                                          | 3           |\n",
            "| Harry Potter and the Chamber of Secrets (Harry Potter, #2)                                                                   | 3           |\n",
            "| The Da Vinci Code (Robert Langdon, #2)                                                                                       | 2           |\n",
            "| The Secret History                                                                                                           | 2           |\n",
            "| Oryx and Crake (MaddAddam, #1)                                                                                               | 2           |\n",
            "| The Devil Wears Prada (The Devil Wears Prada, #1)                                                                            | 2           |\n",
            "| The Girl with the Dragon Tattoo (Millennium, #1)                                                                             | 2           |\n",
            "| The Rainmaker                                                                                                                | 2           |\n",
            "| Reading Lolita in Tehran                                                                                                     | 2           |\n",
            "| The Pilot's Wife                                                                                                             | 2           |\n",
            "| A Prayer for Owen Meany                                                                                                      | 2           |\n",
            "| The World According to Garp                                                                                                  | 2           |\n",
            "| The Metamorphosis                                                                                                            | 2           |\n",
            "| The Client                                                                                                                   | 2           |\n",
            "| The King of Torts                                                                                                            | 2           |\n",
            "| The Firm                                                                                                                     | 2           |\n",
            "| How to Be Good                                                                                                               | 2           |\n",
            "| The Last Juror                                                                                                               | 2           |\n",
            "| Saturday                                                                                                                     | 2           |\n",
            "| The Partner                                                                                                                  | 2           |\n",
            "| The Street Lawyer                                                                                                            | 2           |\n",
            "| The Testament                                                                                                                | 2           |\n",
            "| The Innocent Man: Murder and Injustice in a Small Town                                                                       | 2           |\n",
            "| The Broker                                                                                                                   | 2           |\n",
            "| Veronika Decides to Die                                                                                                      | 1           |\n",
            "| Angels & Demons  (Robert Langdon, #1)                                                                                        | 1           |\n",
            "| The Glass Castle                                                                                                             | 1           |\n",
            "| A Portrait of the Artist as a Young Man                                                                                      | 1           |\n",
            "| The Kite Runner                                                                                                              | 1           |\n",
            "| The Other Boleyn Girl (The Plantagenet and Tudor Novels, #9)                                                                 | 1           |\n",
            "| Bridget Jones: The Edge of Reason (Bridget Jones, #2)                                                                        | 1           |\n",
            "+------------------------------------------------------------------------------------------------------------------------------+-------------+\n"
          ]
        }
      ]
    },
    {
      "cell_type": "code",
      "source": [
        "reccs = MFSGDRecommender(preds, 9, books, ratings, 5)\n",
        "printReccPT(reccs, predicted=True)\n"
      ],
      "metadata": {
        "id": "FuIVeUNZvwRs",
        "colab": {
          "base_uri": "https://localhost:8080/"
        },
        "outputId": "416936bd-79cc-4919-a929-701334fa74fa"
      },
      "id": "FuIVeUNZvwRs",
      "execution_count": null,
      "outputs": [
        {
          "output_type": "stream",
          "name": "stdout",
          "text": [
            "+--------------------------------------+-----------------------------------+\n",
            "| Book Title                           | Approximate Predicted User Rating |\n",
            "+--------------------------------------+-----------------------------------+\n",
            "| Cold Mountain                        | 4.359795570373535                 |\n",
            "| The Fourth Protocol                  | 4.15678596496582                  |\n",
            "| Ender's Shadow (Ender's Shadow, #1)  | 4.141913890838623                 |\n",
            "| Beyond the Shadows (Night Angel, #3) | 4.114989280700684                 |\n",
            "| Hunters of Dune (Dune Chronicles #7) | 4.100308418273926                 |\n",
            "+--------------------------------------+-----------------------------------+\n"
          ]
        }
      ]
    },
    {
      "cell_type": "markdown",
      "source": [
        "As it can be observed, both of the matrix factorization approaches yield different recommendations for a particular user. However, both sets of recommendations contain books that would be relevant to that particular user given their rating history.\n",
        "\n",
        "The recommendations set obtained with svds() contains several fantasy and classic novels given that the user appears to like such novels and rates them highly. Whereas the recommendations set obtained with gradient descent contains several thriller and fantasy novels which are also in tune with the user's tastes. Thus, both of these approaches have picked up on latent patterns and factors that affect whether or not the user would like a particular book or not."
      ],
      "metadata": {
        "id": "5RZ9pV0Cbo1o"
      },
      "id": "5RZ9pV0Cbo1o"
    },
    {
      "cell_type": "markdown",
      "source": [
        "## Cold-start problem\n",
        "\n",
        "Collaborative filtering approaches like the two implemented above with scipy's svds() and stochastic gradient descent suffer when a new user joins the ecosystem. This new user is completely unknown to the model with no history of any interactions with the items present in the dataset.\n",
        "\n",
        "Some ways to deal with the cold-start problem and account for this new user include:\n",
        "\n",
        "*   asking the user to rate K number of items. These interactions can then be used to predict the ratings the new user would potentially assign to other movies.\n",
        "*   recommending items that are popular in the new users locale, city, country, or region. Recommendations can also be made based on what items are popular with people that are in the same demographics (age, gender, etc.) as the new user.\n",
        "\n",
        "Even if data on interactions by the new user is obtained, it is difficult to incorporate this data and generate new recommendations based off these interactions with the above implemented collaborating filtering approaches. This is due to the fact that appending this interactions to the dataset and generating new recommendations will require us to retrain the model which can be a computationally expensive process."
      ],
      "metadata": {
        "id": "g64dep7LDwVo"
      },
      "id": "g64dep7LDwVo"
    },
    {
      "cell_type": "markdown",
      "source": [
        "### New user - Existing user similarity\n",
        "\n",
        "One method to deal with accounting for a new user is to calculate the similarity of the new user with existing users in the database, select K most similar users and, based on the rating they have given to the items in the dataset, predict what the new user would rate the items in the dataset."
      ],
      "metadata": {
        "id": "DX68z1IBpBWb"
      },
      "id": "DX68z1IBpBWb"
    },
    {
      "cell_type": "markdown",
      "source": [
        "The similarity between users is calculated with cosine similarity."
      ],
      "metadata": {
        "id": "b8wrnB_i17Xr"
      },
      "id": "b8wrnB_i17Xr"
    },
    {
      "cell_type": "markdown",
      "source": [
        "<p><center><h3>\n",
        "\n",
        "$cos(\\theta) = \\frac{A . B}{||A|| ||B||}$\n",
        "\n",
        "</h3></center></p>"
      ],
      "metadata": {
        "id": "b0yJ34w64rKw"
      },
      "id": "b0yJ34w64rKw"
    },
    {
      "cell_type": "markdown",
      "source": [
        "\n",
        "Once the cosine similarity between the given user and all the users in the dataset is calculated, top K most similar users are selected. With these selected users, the predicted rating $r_i$ by the new user for a book $i$ is calculated by the following equation:\n"
      ],
      "metadata": {
        "id": "WC1rBsqp4vGf"
      },
      "id": "WC1rBsqp4vGf"
    },
    {
      "cell_type": "markdown",
      "source": [
        "<p><center>\n",
        "<h3>$r_i = \\frac{\\sum (S_{nj} \\times R_{ij})}{\\sum S_{nj}}$</h3>\n",
        "</center></p>"
      ],
      "metadata": {
        "id": "KiX0MP_C4yO1"
      },
      "id": "KiX0MP_C4yO1"
    },
    {
      "cell_type": "markdown",
      "source": [
        "\n",
        "Where $S_{nj}$ is the similarity of the new user with an existing user $ j$ and $R_{ij}$ is the rating given by existing user $j$ to a book $i$."
      ],
      "metadata": {
        "id": "a79VYwPR4085"
      },
      "id": "a79VYwPR4085"
    },
    {
      "cell_type": "code",
      "source": [
        "def getNewUserInput(K):\n",
        "\n",
        "  '''\n",
        "\n",
        "  For testing purposes.\n",
        "\n",
        "  In order to avoid overloading the print output of this function, the user is shown just the first fifty books in the\n",
        "  dataset. In a book recommendation app, this could be a drop-down/gallery type input where the user is shown all the\n",
        "  titles in the dataset and is asked to rate K books. Perhaps a search bar as well to make the UI more intuitive.\n",
        "\n",
        "  Because of the aforementioned reasons, no input handling is implemented.\n",
        "\n",
        "  '''\n",
        "\n",
        "  ip = pd.Series(index=books[\"book_id\"], dtype=\"float64\").fillna(0)\n",
        "  ratings = []\n",
        "\n",
        "  pt = PrettyTable()\n",
        "  titles50 = books[\"title\"].to_list()[:50]\n",
        "  bids50 = books[\"book_id\"].to_list()[:50]\n",
        "\n",
        "  pt.add_column(\"Book id\", bids50)\n",
        "  pt.add_column(\"Book title\", titles50)\n",
        "  pt.align = 'l'\n",
        "  print(pt)\n",
        "\n",
        "  print(\"Rate {} books\".format(K))\n",
        "\n",
        "  br = []\n",
        "\n",
        "  for i in range(K):\n",
        "    bid = input(\"Enter book id to rate: \")\n",
        "    bid = int(bid)\n",
        "\n",
        "    rating = input(\"Enter rating (out of 5): \")\n",
        "    rating = float(rating)\n",
        "\n",
        "    br.append((bid, rating))\n",
        "\n",
        "  for i, r in br:\n",
        "    ip[i] = r\n",
        "\n",
        "  np_input = ip.to_numpy()[np.newaxis, :]\n",
        "  return np_input"
      ],
      "metadata": {
        "id": "aN3k_V0ga5Ts"
      },
      "id": "aN3k_V0ga5Ts",
      "execution_count": null,
      "outputs": []
    },
    {
      "cell_type": "code",
      "source": [
        "def NESimilarity(user_vec, matrix_df,num_sim):\n",
        "  sims = np.zeros(shape=(ratings[\"user_id\"].nunique(), 1))\n",
        "\n",
        "  for i in range(len(matrix_df)):\n",
        "    np_arr = matrix_df.iloc[i].to_numpy()\n",
        "    sims[i,0] = np.dot(user_vec,np_arr)/(np.linalg.norm(user_vec)*np.linalg.norm(np_arr))\n",
        "  sim_df = pd.DataFrame(sims, columns=[\"Similarity\"], index=matrix_df.index)\n",
        "  sim_df = sim_df.sort_values(\"Similarity\", ascending=False)\n",
        "  n_simusers = sim_df.head(num_sim)\n",
        "\n",
        "  book_vec = np.zeros(shape=(1, 10000))\n",
        "\n",
        "  for i in range(1, 10001):\n",
        "    for j in n_simusers.index.values:\n",
        "      book_vec[:,i-1] += n_simusers.loc[j].item() * matrix_df.loc[j][i]\n",
        "\n",
        "  book_vec = book_vec/np.sum(n_simusers[\"Similarity\"])\n",
        "  book_vec_df = pd.DataFrame(book_vec, columns = matrix_df.columns)\n",
        "  return book_vec_df\n"
      ],
      "metadata": {
        "id": "0R4jVAHr4TyU"
      },
      "id": "0R4jVAHr4TyU",
      "execution_count": null,
      "outputs": []
    },
    {
      "cell_type": "code",
      "source": [
        "def NUHistory(user_vec, books_df):\n",
        "  user_ratings = pd.DataFrame(user_vec, columns=books_df[\"book_id\"])\n",
        "  non_zero_columns = user_ratings.columns[user_ratings.iloc[0] != 0]\n",
        "  filtered_df = user_ratings[non_zero_columns]\n",
        "  sorted_df_desc = filtered_df.sort_values(by=filtered_df.index[0], axis=1, ascending=False)\n",
        "  sorted_df_desc = sorted_df_desc.iloc[0]\n",
        "\n",
        "  book_ids = sorted_df_desc.index.values.tolist()\n",
        "  book_ratings = sorted_df_desc.to_list()\n",
        "  book_tr = []\n",
        "  for i in range(len(book_ids)):\n",
        "    book_tr.append((getBookTitle(book_ids[i], books_df), book_ratings[i]))\n",
        "  return book_tr"
      ],
      "metadata": {
        "id": "n8-X8rwCk_bP"
      },
      "id": "n8-X8rwCk_bP",
      "execution_count": null,
      "outputs": []
    },
    {
      "cell_type": "code",
      "source": [
        "def NURecommender(user_vec, matrix_df, num_sim, books_df, K):\n",
        "  u_rating_df = pd.DataFrame(user_vec, columns=books_df[\"book_id\"])\n",
        "  non_zero_columns = u_rating_df.columns[u_rating_df.iloc[0] != 0]\n",
        "  filtered_df = u_rating_df[non_zero_columns]\n",
        "  already_rated = filtered_df.columns.to_list()\n",
        "\n",
        "  reccs_df = NESimilarity(user_vec, matrix_df, num_sim)\n",
        "  not_rated = reccs_df.drop(columns=already_rated)\n",
        "\n",
        "  pred_ratings_for_user = not_rated.sort_values(by=not_rated.index[0], axis=1, ascending=False).iloc[0][:K]\n",
        "  recommended_book_list = pred_ratings_for_user.index.values.tolist()\n",
        "  pred_ratings_for_user = pred_ratings_for_user.to_list()\n",
        "  recommended_book_tr = []\n",
        "\n",
        "  for i in range(len(recommended_book_list)):\n",
        "    recommended_book_tr.append((getBookTitle(recommended_book_list[i], books_df), pred_ratings_for_user[i]))\n",
        "\n",
        "  return recommended_book_tr\n",
        "\n"
      ],
      "metadata": {
        "id": "H7Qu0I7OlvxN"
      },
      "id": "H7Qu0I7OlvxN",
      "execution_count": null,
      "outputs": []
    },
    {
      "cell_type": "code",
      "source": [
        "inp = getNewUserInput(5)"
      ],
      "metadata": {
        "colab": {
          "base_uri": "https://localhost:8080/"
        },
        "id": "cjn3la8vwh4Z",
        "outputId": "e6a25488-25b5-4e3d-ead8-a5a61c0c3ca2"
      },
      "id": "cjn3la8vwh4Z",
      "execution_count": null,
      "outputs": [
        {
          "name": "stdout",
          "output_type": "stream",
          "text": [
            "+---------+------------------------------------------------------------------+\n",
            "| Book id | Book title                                                       |\n",
            "+---------+------------------------------------------------------------------+\n",
            "| 1       | The Hunger Games (The Hunger Games, #1)                          |\n",
            "| 2       | Harry Potter and the Sorcerer's Stone (Harry Potter, #1)         |\n",
            "| 3       | Twilight (Twilight, #1)                                          |\n",
            "| 4       | To Kill a Mockingbird                                            |\n",
            "| 5       | The Great Gatsby                                                 |\n",
            "| 6       | The Fault in Our Stars                                           |\n",
            "| 7       | The Hobbit                                                       |\n",
            "| 8       | The Catcher in the Rye                                           |\n",
            "| 9       | Angels & Demons  (Robert Langdon, #1)                            |\n",
            "| 10      | Pride and Prejudice                                              |\n",
            "| 11      | The Kite Runner                                                  |\n",
            "| 12      | Divergent (Divergent, #1)                                        |\n",
            "| 13      | 1984                                                             |\n",
            "| 14      | Animal Farm                                                      |\n",
            "| 15      | The Diary of a Young Girl                                        |\n",
            "| 16      | The Girl with the Dragon Tattoo (Millennium, #1)                 |\n",
            "| 17      | Catching Fire (The Hunger Games, #2)                             |\n",
            "| 18      | Harry Potter and the Prisoner of Azkaban (Harry Potter, #3)      |\n",
            "| 19      | The Fellowship of the Ring (The Lord of the Rings, #1)           |\n",
            "| 20      | Mockingjay (The Hunger Games, #3)                                |\n",
            "| 21      | Harry Potter and the Order of the Phoenix (Harry Potter, #5)     |\n",
            "| 22      | The Lovely Bones                                                 |\n",
            "| 23      | Harry Potter and the Chamber of Secrets (Harry Potter, #2)       |\n",
            "| 24      | Harry Potter and the Goblet of Fire (Harry Potter, #4)           |\n",
            "| 25      | Harry Potter and the Deathly Hallows (Harry Potter, #7)          |\n",
            "| 26      | The Da Vinci Code (Robert Langdon, #2)                           |\n",
            "| 27      | Harry Potter and the Half-Blood Prince (Harry Potter, #6)        |\n",
            "| 28      | Lord of the Flies                                                |\n",
            "| 29      | Romeo and Juliet                                                 |\n",
            "| 30      | Gone Girl                                                        |\n",
            "| 31      | The Help                                                         |\n",
            "| 32      | Of Mice and Men                                                  |\n",
            "| 33      | Memoirs of a Geisha                                              |\n",
            "| 34      | Fifty Shades of Grey (Fifty Shades, #1)                          |\n",
            "| 35      | The Alchemist                                                    |\n",
            "| 36      | The Giver (The Giver, #1)                                        |\n",
            "| 37      | The Lion, the Witch, and the Wardrobe (Chronicles of Narnia, #1) |\n",
            "| 38      | The Time Traveler's Wife                                         |\n",
            "| 39      | A Game of Thrones (A Song of Ice and Fire, #1)                   |\n",
            "| 40      | Eat, Pray, Love                                                  |\n",
            "| 41      | The Lightning Thief (Percy Jackson and the Olympians, #1)        |\n",
            "| 42      | Little Women (Little Women, #1)                                  |\n",
            "| 43      | Jane Eyre                                                        |\n",
            "| 44      | The Notebook (The Notebook, #1)                                  |\n",
            "| 45      | Life of Pi                                                       |\n",
            "| 46      | Water for Elephants                                              |\n",
            "| 47      | The Book Thief                                                   |\n",
            "| 48      | Fahrenheit 451                                                   |\n",
            "| 49      | New Moon (Twilight, #2)                                          |\n",
            "| 50      | Where the Sidewalk Ends                                          |\n",
            "+---------+------------------------------------------------------------------+\n",
            "Enter atleast 5 ratings\n",
            "Enter book id to rate: 48\n",
            "Enter rating (out of 5): 5\n",
            "Enter book id to rate: 42\n",
            "Enter rating (out of 5): 5\n",
            "Enter book id to rate: 30\n",
            "Enter rating (out of 5): 4\n",
            "Enter book id to rate: 34\n",
            "Enter rating (out of 5): 4\n",
            "Enter book id to rate: 38\n",
            "Enter rating (out of 5): 5\n"
          ]
        }
      ]
    },
    {
      "cell_type": "code",
      "source": [
        "nuh = NUHistory(inp, books)\n",
        "printReccPT(nuh)"
      ],
      "metadata": {
        "colab": {
          "base_uri": "https://localhost:8080/"
        },
        "id": "D1XPq7yTx70e",
        "outputId": "eaa68bce-04c5-4852-a151-bc253ab14584"
      },
      "id": "D1XPq7yTx70e",
      "execution_count": null,
      "outputs": [
        {
          "output_type": "stream",
          "name": "stdout",
          "text": [
            "+-----------------------------------------+-------------+\n",
            "| Book Title                              | User Rating |\n",
            "+-----------------------------------------+-------------+\n",
            "| The Time Traveler's Wife                | 5.0         |\n",
            "| Little Women (Little Women, #1)         | 5.0         |\n",
            "| Fahrenheit 451                          | 5.0         |\n",
            "| Gone Girl                               | 4.0         |\n",
            "| Fifty Shades of Grey (Fifty Shades, #1) | 4.0         |\n",
            "+-----------------------------------------+-------------+\n"
          ]
        }
      ]
    },
    {
      "cell_type": "code",
      "source": [
        "reccs = NURecommender(inp, matrix_df, 10, books, 5)    # Recommend 5 books based on similarity with 10 most similar users in the dataset\n",
        "printReccPT(reccs, predicted=True)"
      ],
      "metadata": {
        "colab": {
          "base_uri": "https://localhost:8080/"
        },
        "id": "btjart4VzmKv",
        "outputId": "5387f78d-91d0-45c7-d769-d79c977abc86"
      },
      "id": "btjart4VzmKv",
      "execution_count": null,
      "outputs": [
        {
          "output_type": "stream",
          "name": "stdout",
          "text": [
            "+-----------------------------------------+-----------------------------------+\n",
            "| Book Title                              | Approximate Predicted User Rating |\n",
            "+-----------------------------------------+-----------------------------------+\n",
            "| To Kill a Mockingbird                   | 4.29889548374304                  |\n",
            "| Pride and Prejudice                     | 3.2127155655937014                |\n",
            "| The Hunger Games (The Hunger Games, #1) | 3.082169045071247                 |\n",
            "| Jane Eyre                               | 2.9158357237406083                |\n",
            "| Romeo and Juliet                        | 2.9145282612755135                |\n",
            "+-----------------------------------------+-----------------------------------+\n"
          ]
        }
      ]
    },
    {
      "cell_type": "markdown",
      "source": [
        "It can be noticed that the recommended books for the new user are similar to the books that they have already rated. The most of the rated books feature female main characters which is also the case with the recommended set of books. This shows that even with trying to serve recommendations to a new user based on similarity between their tastes and the tastes of the existing users, some of the latent features in the new user's rating history are picked up and can be seen in the set of recommendations.\n",
        "\n",
        "Thus, this represents a somewhat effective way of dealing with the cold-start problem without having to retrain the entire model which, with extremely large datasets, may not be feasible especially when serving timely recommendations to the users is a must."
      ],
      "metadata": {
        "id": "rbUPTYUj6644"
      },
      "id": "rbUPTYUj6644"
    },
    {
      "cell_type": "code",
      "source": [],
      "metadata": {
        "id": "i_JWUX7OkDeW"
      },
      "id": "i_JWUX7OkDeW",
      "execution_count": null,
      "outputs": []
    }
  ],
  "metadata": {
    "kernelspec": {
      "display_name": "Python 3 (ipykernel)",
      "language": "python",
      "name": "python3"
    },
    "language_info": {
      "codemirror_mode": {
        "name": "ipython",
        "version": 3
      },
      "file_extension": ".py",
      "mimetype": "text/x-python",
      "name": "python",
      "nbconvert_exporter": "python",
      "pygments_lexer": "ipython3",
      "version": "3.10.4"
    },
    "colab": {
      "provenance": [],
      "toc_visible": true
    }
  },
  "nbformat": 4,
  "nbformat_minor": 5
}